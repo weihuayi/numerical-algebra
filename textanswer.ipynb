{
 "cells": [
  {
   "cell_type": "markdown",
   "metadata": {},
   "source": [
    "$$\n",
    "\\newcommand{\\norm}[1] { \\lVert #1 \\rVert}\n",
    "\\newcommand{\\bracket}[1] {\\left[ #1 \\right]}\n",
    "\\newcommand{\\curly}[1] {\\left{ #1 \\right}}\n",
    "\\newcommand{\\abs}[1] {\\mid #1 \\mid}\n",
    "$$"
   ]
  },
  {
   "cell_type": "markdown",
   "metadata": {},
   "source": [
    "## 数值代数期末考试参考答案 "
   ]
  },
  {
   "cell_type": "markdown",
   "metadata": {},
   "source": [
    "一、请写出数值代数研究的四种标准问题的数学模型(8分)"
   ]
  },
  {
   "cell_type": "markdown",
   "metadata": {},
   "source": [
    "1、线性方程组:解 $Ax = b$ .这里 $A$ 是一个已知的 $n\\times n$ 阶非奇异实的或复的矩阵, $b$ 是一个已知的 $n$ 维列向量， $x$ 是我们要求的 $n$ 维列向量.  (2分）\n",
    "\n",
    "2、最小二乘问题:计算极小化 $\\norm{Ax-b}_2$ 的 $x$ ，这里 $A$ s是 $m\\times n$ 阶的， $b$ 是 $m\\times 1$ 阶的， $x$  是 $n\\times 1$ 阶的，而 $\\norm{y}_2 \\equiv \\sqrt{\\sum_{i}\\mid y_i\\mid^2}$ 称为向量 $y$ 的 2-范数.若 $m > n$ ,即方程数大于未知量的个数，这个方程称为超定的.此时，一般不能精确地求解 $Ax = b$ .若 $m < n$ ,这个方程是亚定的，其将有无穷多个解.  （2分）\n",
    "\n",
    "3、特征值问题:给定 $n\\times n$ 阶矩阵 $A$ ，求 $n\\times 1$ 阶非零向量 $x$ 和标量 $\\lambda$ 使得 $Ax = \\lambda x$.  （2分）\n",
    "\n",
    "4、奇异值问题:给定 $m\\times n$ 的矩阵 $A$ ，求 $n\\times 1$ 阶非零向量 $x$ 和标量 $\\lambda$ 使得 $A^TAx = \\lambda x$. （2分）"
   ]
  },
  {
   "cell_type": "markdown",
   "metadata": {},
   "source": [
    "二、记 $A$ 为一正交矩阵，证明:\n",
    "\n",
    "(1) $\\det(A) = \\pm 1$. \n",
    "\n",
    "(2) 如果 $B$ 也是正交矩阵,而且 $\\det(A)=-\\det(B)$, 则 $A + B$ 是奇异的.(12分)"
   ]
  },
  {
   "cell_type": "markdown",
   "metadata": {},
   "source": [
    "**证明:**\n",
    "(1) 由于 $A$ 是正交矩阵，故 \n",
    "\n",
    "$$ \n",
    "\\det(A) = \\det(A^T) = \\det(A^{-1})\n",
    "$$ \n",
    "\n",
    "且 \n",
    "\n",
    "$$\n",
    "\\det(I) = \\det(AA^T) = \\det(A)\\det(A^T) = 1,\n",
    "$$\n",
    "\n",
    "则 $\\det(A) = \\pm 1$。 （6分）"
   ]
  },
  {
   "cell_type": "markdown",
   "metadata": {},
   "source": [
    "(2) 由于 $A$ 、 $B$ 均为正交矩阵，那么 $AA^T = I, BB^T = I$, 则  \n",
    "\n",
    "$$\n",
    "\\begin{aligned}\n",
    "\\det(A + B) =& \\det(AB^TB + AA^TB) \\\\\n",
    "= &\\det(A)\\det(B^T + A^T)\\det(B) \\\\\n",
    "= & -\\det(B^T + A^T) \\\\\n",
    "= & -\\det(A + B)\n",
    "\\end{aligned}\n",
    "$$  \n",
    "\n",
    "因此，$A + B$ 非奇异的.（6分） $\\square$"
   ]
  },
  {
   "cell_type": "markdown",
   "metadata": {},
   "source": [
    "三、记 $A$ 为非奇异的方阵，证明下面的公式成立:(15分)\n",
    "\n",
    "$$\n",
    "\\min\n",
    "\\left\\{\n",
    "\\frac{\\norm{\\delta A}_2 }{\\norm{A}_2}: A + \\delta A \\text{ 是奇异的 }\n",
    "\\right\\}\n",
    " = \\frac{1}{\\norm{A^{-1}}_2\\cdot \\norm{A}_2} = \\frac{1}{\\kappa(A)}\n",
    "$$"
   ]
  },
  {
   "cell_type": "markdown",
   "metadata": {},
   "source": [
    "**证明:** 要证明上面公式成立， 我们只需证\n",
    "$$\n",
    "\\min\n",
    "\\left\\{\n",
    "\\norm{\\delta A}_2 : A + \\delta A \\text{ 奇异 }\n",
    "\\right\\}\n",
    " = \\frac{1}{\\norm{A^{-1}}_2}.\n",
    "$$  "
   ]
  },
  {
   "cell_type": "markdown",
   "metadata": {},
   "source": [
    "1). 首先证明上述的最小值至少是 $\\frac{1}{\\norm{A^{-1}}_2}$.\n",
    "因为若 $\\norm{\\delta A}_2 < \\frac{1}{\\norm{A^{-1}}_2}$, 则 \n",
    "\n",
    "$$\n",
    "1 > \\norm{\\delta A}_2 \\norm{A^{-1}}_2 \\geq \\norm{A^{-1}\\delta A}_2,\n",
    "$$ \n",
    "\n",
    "易知 $I + A^{-1}\\delta A$ 是可逆的，进而 $A + \\delta A$ 可逆，与集合的性质矛盾。(7分）"
   ]
  },
  {
   "cell_type": "markdown",
   "metadata": {},
   "source": [
    "2). 其次证明上述最小值等于 $\\frac{1}{\\norm{A^{-1}}_2}$.\n",
    "这里需要构造一个范数为 $\\frac{1}{\\norm{A^{-1}}_2}$ 的 $\\delta A$ 使得 $A + \\delta A$ 奇异. 因为 \n",
    "\n",
    "$$\n",
    "\\norm{A^{-1}} = \\max_{x\\not=0}\\frac{\\norm{A^{-1}x}_2}{\\norm{x}_2},\n",
    "$$\n",
    "\n",
    "所以存在 $\\norm{x}_2 = 1$, 使得\n",
    "\n",
    "$$\n",
    "\\norm{A^-1}_2 = \\norm{A^{-1}x}_2 >0.\n",
    "$$"
   ]
  },
  {
   "cell_type": "markdown",
   "metadata": {},
   "source": [
    "构造向量 \n",
    "$$\n",
    "y = \\frac{A^{-1}x}{\\lVert A^{-1}x\\rVert_2} = \\frac{A^{-1}x}{\\lVert A^{-1}\\rVert_2}，\n",
    "$$ \n",
    "易知  $\\lVert y\\rVert_2 = 1$."
   ]
  },
  {
   "cell_type": "markdown",
   "metadata": {},
   "source": [
    "构造   \n",
    "\n",
    "$$\n",
    "\\delta A =  \\frac{-xy^T}{\\norm{A^{-1}}_2}，\n",
    "$$ \n",
    "\n",
    "由矩阵 2 范数的定义，可知:\n",
    "\n",
    "$$\n",
    " \\norm{\\delta A}_2 = \\max_{z\\ne 0}\\frac{\\norm{xy^Tz}_2}{\\norm{A^{-1}}_2\\norm{z}_2} = \\max_{z\\ne 0}\\frac{\\abs{ y^Tz}\\norm{x}_2}{\\norm{A^{-1}}_2\\norm{z}_2} \\overset{\\norm{x}_2=1}{=}\\max_{z\\ne 0}\\frac{\\abs{y^Tz}}{\\norm{A^{-1}}_2\\norm{z}_2}\n",
    "$$\n",
    "\n",
    "上式当 $z$ 是 $y$ 的任意非零倍数时达到最大值 $\\frac{1}{\\norm{A^{-1}}_2}$. 由下面等式  \n",
    "\n",
    "$$\n",
    "(A + \\delta A)y = Ay - \\frac{xy^Ty}{\\norm{A^{-1}}_2} = \\frac{x}{\\norm{A^{-1}}_2}-\\frac{x}{\\norm{A^{-1}}_2} = 0， \n",
    "$$ \n",
    "\n",
    "可知 $A+\\delta A$ 是奇异矩阵。（8分） $\\square$"
   ]
  },
  {
   "cell_type": "markdown",
   "metadata": {},
   "source": [
    "四、记 $A$ 为对称正定矩阵，证明: $\\mid a_{ij}\\mid \\le (a_{ii}a_{jj})^\\frac{1}{2}$ .(10分)"
   ]
  },
  {
   "cell_type": "markdown",
   "metadata": {},
   "source": [
    "**证明:** 由于 $A$ 是对称正定的，它的所有对角元是正的.考虑\n",
    "\n",
    "$$\n",
    "x_0 = (0,0,\\cdots,\\stackrel{i}{\\sqrt{a_{jj}}},\\cdots,-\\stackrel{j}{\\sqrt{a_{ii}}},\\cdots,0)\n",
    "$$\n",
    "\n",
    "$$\n",
    "x_1 = (0,0,\\cdots,\\stackrel{i}{\\sqrt{a_{jj}}},\\cdots,\\stackrel{j}{\\sqrt{a_{ii}}},\\cdots,0)\n",
    "$$\n",
    "\n",
    "得到\n",
    "\n",
    "$$\n",
    "x_0^TAx_0 = a_{jj}a_{ii}-2\\sqrt{a_{ii}a_{jj}}a_{ij} + a_{ii}a_{jj} = 2a_{ii}a_{jj} - 2\\sqrt{a_{ii}a_{jj}}a_{ij}\\ge0\n",
    "$$\n",
    "\n",
    "$$\n",
    "x_1^TAx_1 = a_{jj}a_{ii}+2\\sqrt{a_{ii}a_{jj}}a_{ij} + a_{ii}a_{jj} = 2a_{ii}a_{jj} + 2\\sqrt{a_{ii}a_{jj}}a_{ij}\\ge0\n",
    "$$\n",
    "\n",
    "因此有\n",
    "\n",
    "$$\n",
    "\\mid a_{ij}\\mid \\le (a_{ii}a_{jj})^\\frac{1}{2}\n",
    "$$ $\\square$"
   ]
  },
  {
   "cell_type": "markdown",
   "metadata": {},
   "source": [
    "五、写出经典的 Gram-Schmidt 和修改的 Gram-Schmidt 算法伪代码(QR分解).(15分)"
   ]
  },
  {
   "cell_type": "markdown",
   "metadata": {},
   "source": [
    "for i = 1 to n  \n",
    "\n",
    "$\\quad q_i = a_i$  \n",
    "\n",
    "$\\quad for\\,\\ j = 1\\,\\ to\\,\\ i - 1$  \n",
    "\n",
    "$\\qquad r_{ji} = q_j^Ta_i$ $\\qquad CGS$  \n",
    "\n",
    "$\\qquad r_{ji} = q_j^TQ_i$ $\\qquad MGS$  \n",
    "\n",
    "$\\qquad q_i = q_i - r_{ji}q_j$  \n",
    "\n",
    "$\\quad end\\,\\ for$  \n",
    "\n",
    "$\\quad r_{ii} = \\lVert q_i\\rVert_2$  \n",
    "\n",
    "$\\quad if\\,\\ r_{ii} = 0$  \n",
    "\n",
    "$\\qquad quit$  \n",
    "\n",
    "$\\quad end\\,\\ for$  \n",
    "\n",
    "$\\quad q_i = q_i/r_{ii}$  \n",
    "\n",
    "end for  $\\square$"
   ]
  },
  {
   "cell_type": "markdown",
   "metadata": {},
   "source": [
    "六、记 $A$ 为任一 $m\\times n$ 的矩阵，其中 $m\\ge n$ ,则一定存在如下分解\n",
    "\n",
    "$$\n",
    "A = U\\Sigma V^T\n",
    "$$\n",
    "\n",
    "其中 $U$ 是 $m\\times n$ 的矩阵，满足 $U^TU = I_n$ ; $V$ 为 $n\\times n$ 的矩阵,满足 $V^TV = I_n$ ; $\\Sigma = diag(\\sigma_1,\\cdots,\\sigma_n),\\sigma_1\\ge \\cdots \\ge \\sigma_n\\ge0$."
   ]
  },
  {
   "cell_type": "markdown",
   "metadata": {},
   "source": [
    "**证明:** 如果 $A$ 是 $m\\times n$ 的零矩阵, 则可取 $\\Sigma$ 为 $n\\times n$ 的零矩阵,  \n",
    "并设 $U$ 和 $V$ 为相应规模的任意的正交阵, 使得分解成立."
   ]
  },
  {
   "cell_type": "markdown",
   "metadata": {},
   "source": [
    "如果 $A$ 不为零矩阵时，易知当 $n = 1$ 时，\n",
    "取  \n",
    "\n",
    "$$\n",
    "U = \\frac{A}{\\lVert A\\rVert_2}, \\Sigma =\\lVert A\\rVert_2, V = 1\n",
    "$$ \n",
    "\n",
    "使得\n",
    "\n",
    "$$\n",
    "A = U\\Sigma V^T\n",
    "$$\n",
    "\n",
    "成立."
   ]
  },
  {
   "cell_type": "markdown",
   "metadata": {},
   "source": [
    "下面假定对 $(m-1)\\times(n-1)$ 阶矩阵的 $SVD$ 分解存在，进而证明 $m\\times n$ 阶矩阵的 $SVD$ 分解也存在.  \n",
    "首先由矩阵 2 范数的定义 \n",
    "\n",
    "$$\n",
    "\\lVert A\\rVert_2 = \\max_{\\lVert v\\rVert_2 = 1}\\lVert Av\\rVert_2\n",
    "$$\n",
    "\n",
    "可知，存在 $v$ 使得 \n",
    "\n",
    "$$\\lVert v\\rVert_2 = 1\n",
    "$$ \n",
    "\n",
    "和 \n",
    "\n",
    "$$\n",
    "\\lVert A\\rVert_2 = \\lVert Av\\rVert_2\\ge0\n",
    "$$.  \n",
    "\n",
    "构造单位向量\n",
    "\n",
    "$$\n",
    "u = \\frac{Av}{\\lVert Av\\rVert_2}\n",
    "$$\n",
    "\n",
    "选取合适的 $\\widetilde{U}$ 和 $\\widetilde{V}$， 构造一个 $m\\times m$ 阶正交阵 $U = [u,\\widetilde{U}]$， 和一个 $n\\times n$ 阶正交阵 $V = [v,\\widetilde{V}]$。"
   ]
  },
  {
   "cell_type": "markdown",
   "metadata": {},
   "source": [
    "\n",
    "$$\n",
    "U^TAV = \n",
    "\\begin{bmatrix}\n",
    "u^T \\\\\n",
    " \\widetilde{U}^T\n",
    "\\end{bmatrix}\n",
    "\\dot A\\dot[v\\quad \\widetilde{V}]\n",
    "=\\begin{bmatrix}\n",
    "u^TAv & u^TA\\widetilde{V}\\\\\n",
    " \\widetilde{U}^TAv & \\widetilde{U}^TA\\widetilde{V}\n",
    "\\end{bmatrix}\n",
    "$$.\n",
    "\n",
    "于是\n",
    "\n",
    "$$\n",
    "u^TAv = \\frac{(Av)^T(Av)}{\\lVert Av\\rVert_2} = \\frac{\\lVert Av\\rVert_2^2}{\\lVert Av\\rVert_2} = \\lVert Av\\rVert_2 = \\lVert A\\rVert_2 = \\sigma\n",
    "$$\n",
    "\n",
    "且  \n",
    "\n",
    "$$\n",
    "\\widetilde{U}^TAv = \\widetilde{U}^Tu\\lVert Av\\rVert_2 = 0\n",
    "$$.\n",
    "\n",
    "我们也断定 $u^TA\\widetilde{V} = 0$ ,  \n",
    "否则因为  \n",
    "\n",
    "$$\n",
    "\\sigma = \\lVert A\\rVert_2 = \\lVert U^TAV\\rVert_2 \\ge \\lVert [1,0,\\cdots,0]U^TAV\\rVert_2 = \\lVert \\sigma \\,\\ u^TA\\widetilde{V}\\rVert_2 > \\sigma\n",
    "$$ \n",
    "\n",
    "矛盾.  \n",
    "故\n",
    "\n",
    "$$\n",
    "U^TAV = \n",
    "\\begin{bmatrix}\n",
    "\\sigma & 0\\\\\n",
    " 0 & \\widetilde{U}^TA\\widetilde{V}\n",
    "\\end{bmatrix}\n",
    "=\n",
    "\\begin{bmatrix}\n",
    "\\sigma & 0\\\\\n",
    " 0 & \\widetilde{A}\n",
    "\\end{bmatrix}$$. \n",
    "\n",
    "现在可应用对 $\\widetilde{A}$ 的归纳假设得到 $\\widetilde{A} = U_1\\Sigma_1 V_1^T$ ,  \n",
    "其中 $U_1$ 是 $(m-1)\\times (n-1)$ 的矩阵, $\\Sigma_1$ 为 $(n-1)\\times (n-1)$ 的矩阵, $V_1$ 为 $(n-1)\\times (n-1)$ 的矩阵.  \n",
    "故\n",
    "\n",
    "$$\n",
    "U^TAV = \n",
    "\\begin{bmatrix}\n",
    "\\sigma & 0\\\\\n",
    " 0 & U_1\\Sigma_1 V_1^T\n",
    "\\end{bmatrix}\n",
    "=\n",
    "\\begin{bmatrix}\n",
    "1 & 0\\\\\n",
    " 0 & U_1\n",
    "\\end{bmatrix}\n",
    "\\begin{bmatrix}\n",
    "\\sigma & 0\\\\\n",
    " 0 & \\Sigma_1 \n",
    "\\end{bmatrix}\n",
    "{\\begin{bmatrix}\n",
    "1 & 0\\\\\n",
    " 0 & V_1\n",
    "\\end{bmatrix}}^T\n",
    ".   \\square$$"
   ]
  },
  {
   "cell_type": "markdown",
   "metadata": {},
   "source": [
    "七、记 $\\alpha_1\\ge\\cdots\\ge\\alpha_n$ 是 $n$ 阶对称矩阵 $A$ 的特征值，$q_1,\\cdots,q_n$ 是对应的单位特征向量。证明:\n",
    "\n",
    "$$\n",
    "\\max_{R^j}\\min_{0\\ne\\in R^j}\\rho(r,A) = \\alpha_j = \\min_{S^{n-j+1}}\\max_{0\\ne s\\in S^{n-j+1}}\\rho(s,A)\n",
    "$$\n",
    "\n",
    "其中 $R^j$ 是 $R^n$ 空间中的 $j$ 维子空间，$S^{n-j+1}$ 是 $R^n$ 空间中的 $n-j+1$ 维子空间."
   ]
  },
  {
   "cell_type": "markdown",
   "metadata": {},
   "source": [
    "证明:选择指定维数的任意子空间 $R^j$ 和 $S^{n-j+1}$.  \n",
    "因为它们的维数之和 $j + (n - j + 1) = n + 1 > n$,所以存在一个非零向量 $x_{RS}\\in R_j\\cap S^{n-j+1}$.  \n",
    "因此\n",
    "\n",
    "$$\n",
    "\\min_{0\\ne\\in R^j}\\rho(r,A)\\le\\rho(x_{RS},A)\\le\\max_{0\\ne s\\in S^{n-j+1}}\\rho(s,A)\n",
    "$$\n",
    "\n",
    "现在选择 $\\hat R^j$ 极大化左边的表达式，选择 $\\hat S^{n-j+1}$ 极小化右边的表达式.  \n",
    "则\n",
    "\n",
    "$$\n",
    "\\begin{aligned}\n",
    "\\max_{R^j}\\min_{0\\ne\\in  R^j}\\rho(r,A) = &\\min_{0\\ne r\\in \\hat R^j}\\rho(r,A)\\\\\n",
    "\\le & \\rho(x_{\\hat R\\hat S},A)\\\\\n",
    "\\le & \\max_{0\\ne s\\in \\hat S^{n-j+1}}\\rho(s,A) \\\\\n",
    "= &\\min_{S^{n-j+1}}\\max_{0\\ne s\\in S^{n-j+1}}\\rho(s,A)\n",
    "\\end{aligned}.\n",
    "$$"
   ]
  },
  {
   "cell_type": "markdown",
   "metadata": {},
   "source": [
    "为观察这些不等式实际上是等式，我们取特别的 $R_j$ 是 $R_n$ 使下界等于上界.  \n",
    "首先选择 $\\underline R^j = span{q_1,\\cdots,q_j}$  \n",
    "使得\n",
    "\n",
    "$$\n",
    "\\begin{aligned}\n",
    "\\max_{R^j}\\min_{0\\ne r\\in  R^j}\\rho(r,A)\\ge &\\min_{0\\ne r\\in \\underline R^j}\\rho(r,A) \\\\\n",
    "= &\\min_{0\\ne r = \\Sigma_{i\\le j}\\xi_i q_i}\\rho(r,A) \\\\\n",
    "= &\\min_{some\\xi_i\\ne 0}\\frac{\\Sigma_{i\\le j}\\xi_i^2 \\alpha_i}{\\Sigma_{i\\le j}\\xi_i^2} \\\\\n",
    "= &\\alpha_j\n",
    "\\end{aligned}\n",
    "$$\n",
    "\n",
    "下面选择 $\\overline S^{n-j+1}  = (q_j,\\cdots,q_n)$ 使得\n",
    "$$\n",
    "\\begin{aligned}\n",
    "\\min_{S^{n-j+1}}\\max_{0\\ne s\\in S^{n-j+1}}\\rho(s,A)\\le &\\max_{0\\ne s\\in \\overline S^{n-j+1}}\\rho(s,A) \\\\\n",
    "= &\\max_{0\\ne s = \\Sigma_{i\\ge j}\\xi_i q_i}\\rho(r,A) \\\\\n",
    "= &\\max_{some\\xi_i\\ne 0}\\frac{\\Sigma_{i\\ge j}\\xi_i^2 \\alpha_i}{\\Sigma_{i\\ge j}\\xi_i^2} \\\\\n",
    "= &\\alpha_j\n",
    "\\end{aligned}\n",
    "$$.$\\square$"
   ]
  },
  {
   "cell_type": "markdown",
   "metadata": {},
   "source": [
    "八、写出对称矩阵特征值与特征向量的 $divide-and-conquer$ 算法"
   ]
  },
  {
   "cell_type": "markdown",
   "metadata": {},
   "source": [
    "$proc\\quad dc\\_eig(T,Q,\\Lambda)\\cdots$ .从输入 $T$ 计算输出 $Q$ 和 $\\Lambda$,其中 $T = Q\\Lambda Q^T$  \n",
    "\n",
    "$if\\,\\ is\\,\\ 1\\times1$  \n",
    "\n",
    "$\\quad return Q = 1,\\Lambda = T$  \n",
    "\n",
    "$else$  \n",
    "\n",
    "$\\quad\\text{形成}T = \n",
    "\\begin{bmatrix}\n",
    "T_1 & 0\\\\\n",
    " 0 & T_2\n",
    "\\end{bmatrix}\n",
    "+ b_mvv^T$  \n",
    "\n",
    "$\\quad call\\,\\ dc\\_eig(T_1,Q_1,\\Lambda_1)$  \n",
    "\n",
    "$\\quad call\\,\\ dc\\_eig(T_2,Q_2,\\Lambda_2)$  \n",
    "\n",
    "$\\quad \\text{从}\\Lambda_1，\\Lambda_1，Q_1,Q_2\\text{形成}D + \\rho uu^T$  \n",
    "\n",
    "$\\quad \\text{求}D + \\rho uu^T\\text{的特征值}\\Lambda\\text{和特征向量}Q'$  \n",
    "\n",
    "$\\quad\\text{形成}Q = \n",
    "\\begin{bmatrix}\n",
    "Q_1 & 0\\\\\n",
    " 0 & Q_2\n",
    "\\end{bmatrix}\n",
    "\\cdot Q'\\text{的特征向量}$  \n",
    "\n",
    "$\\quad return\\,\\  Q，\\Lambda$  \n",
    "\n",
    "$endif$"
   ]
  },
  {
   "cell_type": "code",
   "execution_count": null,
   "metadata": {
    "collapsed": true
   },
   "outputs": [],
   "source": []
  },
  {
   "cell_type": "code",
   "execution_count": null,
   "metadata": {
    "collapsed": true
   },
   "outputs": [],
   "source": []
  }
 ],
 "metadata": {
  "kernelspec": {
   "display_name": "Python 3",
   "language": "python",
   "name": "python3"
  },
  "language_info": {
   "codemirror_mode": {
    "name": "ipython",
    "version": 3
   },
   "file_extension": ".py",
   "mimetype": "text/x-python",
   "name": "python",
   "nbconvert_exporter": "python",
   "pygments_lexer": "ipython3",
   "version": "3.6.2"
  },
  "latex_envs": {
   "bibliofile": "biblio.bib",
   "cite_by": "apalike",
   "current_citInitial": 1,
   "eqLabelWithNumbers": true,
   "eqNumInitial": 0
  }
 },
 "nbformat": 4,
 "nbformat_minor": 2
}
