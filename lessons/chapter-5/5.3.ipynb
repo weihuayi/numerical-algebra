{
 "cells": [
  {
   "cell_type": "markdown",
   "metadata": {},
   "source": [
    "# Algorithms for the Symmetric Eigenproblem"
   ]
  },
  {
   "cell_type": "markdown",
   "metadata": {},
   "source": [
    "* direct methods in this chapter  \n",
    "* iterative methods in Chapter 7"
   ]
  },
  {
   "cell_type": "markdown",
   "metadata": {},
   "source": [
    "* QR iteration in Chapter 4\n",
    "    + find all the eigenvalues\n",
    "    + optionally all the eigenvectors \n",
    "* we have more choice for symmetric eigenproblem "
   ]
  },
  {
   "cell_type": "markdown",
   "metadata": {},
   "source": [
    "* non-tridiagonal form matrix \n",
    "    + Rayleigh quotient iteration\n",
    "    + Jacobi's method\n",
    "* tridiagonal from matrix \n",
    "    + tridiagonal QR iterations \n",
    "    + Divide-and-conquer\n",
    "    + Bisection and inverse iteration"
   ]
  },
  {
   "cell_type": "markdown",
   "metadata": {},
   "source": []
  },
  {
   "cell_type": "markdown",
   "metadata": {},
   "source": [
    "$$\n",
    "\\begin{bmatrix}\n",
    "0.24929 & 1.263 & 0 & 0\\\\\n",
    "1.263  & 0.96880 & -0.82812 & 0 \\\\\n",
    "0 & -0.82812 & 0.48539 & -3.1883 \\\\\n",
    "0 &  0 & -3.1883 & -0.91563 \n",
    "\\end{bmatrix}\n",
    "$$"
   ]
  },
  {
   "cell_type": "code",
   "execution_count": null,
   "metadata": {
    "collapsed": true
   },
   "outputs": [],
   "source": []
  }
 ],
 "metadata": {
  "kernelspec": {
   "display_name": "Python 3",
   "language": "python",
   "name": "python3"
  },
  "language_info": {
   "codemirror_mode": {
    "name": "ipython",
    "version": 3
   },
   "file_extension": ".py",
   "mimetype": "text/x-python",
   "name": "python",
   "nbconvert_exporter": "python",
   "pygments_lexer": "ipython3",
   "version": "3.5.2"
  },
  "latex_envs": {
   "bibliofile": "biblio.bib",
   "cite_by": "apalike",
   "current_citInitial": 1,
   "eqLabelWithNumbers": true,
   "eqNumInitial": 0
  }
 },
 "nbformat": 4,
 "nbformat_minor": 1
}
