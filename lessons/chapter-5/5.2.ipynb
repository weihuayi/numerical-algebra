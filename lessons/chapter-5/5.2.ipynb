{
 "cells": [
  {
   "cell_type": "markdown",
   "metadata": {},
   "source": [
    "# 5.2  Perturbation Theory"
   ]
  },
  {
   "cell_type": "markdown",
   "metadata": {},
   "source": [
    "* $A$\n",
    "* $\\hat{A} = A + E$\n",
    "\n",
    "The major goal of this section is to bound the differences between the true eignevalues and computed eigenvalues in the term of size of $E$ ($\\|E\\|_2$)."
   ]
  },
  {
   "cell_type": "markdown",
   "metadata": {},
   "source": [
    "** Corollary 4.1 **"
   ]
  },
  {
   "cell_type": "markdown",
   "metadata": {},
   "source": [
    "** Theorem 5.1 Weyl's Theorem** \n",
    "\n",
    "** Corollary 5.1 **\n",
    "\n",
    "** Definition 5.1: Rayleigh quotient **"
   ]
  },
  {
   "cell_type": "markdown",
   "metadata": {},
   "source": [
    "* Rayleigh quotient is a weighted average of the eigenvalues of $A$."
   ]
  },
  {
   "cell_type": "markdown",
   "metadata": {},
   "source": [
    "** Theorem 5.2: Courant-Fischer minimax theorem. **"
   ]
  },
  {
   "cell_type": "markdown",
   "metadata": {},
   "source": [
    "** Definition 5.2 intertia of a symmetric matrix $A$**\n",
    "\n",
    "$$\n",
    "\\text{Inertia}(A) = (\\nu, \\zeta, \\pi)\n",
    "$$\n",
    "\n",
    "* congruent: 合同"
   ]
  },
  {
   "cell_type": "markdown",
   "metadata": {},
   "source": [
    "** Theorem 5.3 Sylvester's inertia theorem. ** Let $A$ be symmetric and $X$ be nonsingular. Then $A$ and $X^TAX$ have the same inertia."
   ]
  },
  {
   "cell_type": "markdown",
   "metadata": {},
   "source": [
    "**How eigenvectors can change**"
   ]
  },
  {
   "cell_type": "markdown",
   "metadata": {},
   "source": [
    "** Definition 5.3 The gap of eigenvalue**. "
   ]
  },
  {
   "cell_type": "markdown",
   "metadata": {},
   "source": [
    "* a small gab implies a sensitive eigenvector."
   ]
  },
  {
   "cell_type": "markdown",
   "metadata": {},
   "source": [
    "** Example 5.4 ** \n",
    "\n",
    "* The angle between the perturbed vectors and unperturbed vectors is proportional to the reciprocal of the gap $g$."
   ]
  },
  {
   "cell_type": "markdown",
   "metadata": {},
   "source": [
    "**Theorem 5.4**\n",
    "\n",
    "* we know only the eigenvalues of $A+E$\n",
    "* we can only estimate $\\text{gap}(i, A)$\n",
    "\n",
    "\n",
    "**Proof:**\n",
    "\n",
    "Weyl's theorem"
   ]
  },
  {
   "cell_type": "markdown",
   "metadata": {
    "collapsed": true
   },
   "source": [
    "** Theorem 5.5 **\n",
    "\n",
    "* The Rayleigh quotient is a \"best approximation\" to an eigenvalue in a natural sense."
   ]
  },
  {
   "cell_type": "code",
   "execution_count": null,
   "metadata": {
    "collapsed": true
   },
   "outputs": [],
   "source": []
  }
 ],
 "metadata": {
  "kernelspec": {
   "display_name": "Python 3",
   "language": "python",
   "name": "python3"
  },
  "language_info": {
   "codemirror_mode": {
    "name": "ipython",
    "version": 3
   },
   "file_extension": ".py",
   "mimetype": "text/x-python",
   "name": "python",
   "nbconvert_exporter": "python",
   "pygments_lexer": "ipython3",
   "version": "3.5.2"
  },
  "latex_envs": {
   "bibliofile": "biblio.bib",
   "cite_by": "apalike",
   "current_citInitial": 1,
   "eqLabelWithNumbers": true,
   "eqNumInitial": 0
  }
 },
 "nbformat": 4,
 "nbformat_minor": 1
}
