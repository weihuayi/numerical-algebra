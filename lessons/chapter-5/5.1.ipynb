{
 "cells": [
  {
   "cell_type": "markdown",
   "metadata": {},
   "source": [
    "# Introduction "
   ]
  },
  {
   "cell_type": "markdown",
   "metadata": {},
   "source": [
    "$$\n",
    "H =\n",
    "$$"
   ]
  },
  {
   "cell_type": "markdown",
   "metadata": {},
   "source": [
    "1. direct method\n",
    "    + compute all (or a selected subset) of the eigenvalues and (optionally eignevectors\n",
    "    + $\\mathcal O(n^3)$ operations fro dense matrices\n",
    "2. iterative method"
   ]
  },
  {
   "cell_type": "markdown",
   "metadata": {},
   "source": [
    "* High-speed algorithm\n",
    "    + divide-and-conquer\n",
    "    + sectin 5.3.3\n",
    "    + a large dense or banded symmetric matrix\n",
    "    + significantly faster than $QR$\n",
    "* High-accuracy algorithms\n",
    "    + dqds\n",
    "    + Jacobi algorithms \n",
    "    + 5.2.1, 5.4.2 and 5.4.3\n",
    "    + more accurately tiny eigenvalues (or singular values) \n",
    "* nonlinear vibrating system\n",
    "    + Toda flow\n",
    "    + continuous solution\n",
    "    + intermediate steps of the QR algorithm"
   ]
  },
  {
   "cell_type": "markdown",
   "metadata": {},
   "source": [
    "** Example 5.1: Mechanical vibrations ** \n",
    "$$\n",
    "M\\ddot{x}(t) = - K x(t)\n",
    "$$\n",
    "\n",
    "$$\n",
    "M = \\text{diag}(m_1, \\ldots, m_n)\n",
    "$$\n",
    "\n",
    "$$\n",
    "K = \\begin{bmatrix}\n",
    "k_1+k_2 & -k_2 &  &  & \\\\\n",
    "-k_2 &  k_2 + k_3 & -k_3 &  & \\\\\n",
    " &\\ddots& \\ddots & \\ddots &  \\\\\n",
    " & & -k_{n-1} & k_{n-1}+k_n & -k_n\\\\\n",
    " & & & -k_n & k_n \n",
    "\\end{bmatrix}\n",
    "$$"
   ]
  },
  {
   "cell_type": "markdown",
   "metadata": {},
   "source": [
    "$$\n",
    "\\ddot x(t) = -M^{-1}Kx(t)\n",
    "$$"
   ]
  },
  {
   "cell_type": "code",
   "execution_count": null,
   "metadata": {
    "collapsed": true
   },
   "outputs": [],
   "source": []
  }
 ],
 "metadata": {
  "kernelspec": {
   "display_name": "Python 3",
   "language": "python",
   "name": "python3"
  },
  "language_info": {
   "codemirror_mode": {
    "name": "ipython",
    "version": 3
   },
   "file_extension": ".py",
   "mimetype": "text/x-python",
   "name": "python",
   "nbconvert_exporter": "python",
   "pygments_lexer": "ipython3",
   "version": "3.6.2"
  },
  "latex_envs": {
   "bibliofile": "biblio.bib",
   "cite_by": "apalike",
   "current_citInitial": 1,
   "eqLabelWithNumbers": true,
   "eqNumInitial": 0
  }
 },
 "nbformat": 4,
 "nbformat_minor": 1
}
