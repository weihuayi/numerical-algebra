{
 "cells": [
  {
   "cell_type": "markdown",
   "metadata": {},
   "source": [
    "$$\n",
    "\\newcommand{\\norm}[1] {\\left\\| #1 \\right\\|}\n",
    "$$"
   ]
  },
  {
   "cell_type": "markdown",
   "metadata": {},
   "source": [
    "## 2.1概述"
   ]
  },
  {
   "cell_type": "markdown",
   "metadata": {},
   "source": [
    "+ 2.2 讨论 $Ax=b$ 的扰动理论  \n",
    "+ 2.3 Gauss消元法(直接法)\n",
    "+ 2.4 分析Gauss消元法中的误差并给出实际的误差界\n"
   ]
  },
  {
   "cell_type": "markdown",
   "metadata": {},
   "source": [
    "## 2.2 扰动理论"
   ]
  },
  {
   "cell_type": "markdown",
   "metadata": {},
   "source": [
    "假定 $Ax=b$ 和 $（A + \\delta A）\\hat{x} = b + \\delta b$, 其中 $\\delta x \\equiv \\hat{x} - x$ . \n",
    "\n",
    "我们的目标是界定 $\\delta x \\equiv \\hat{x} - x$ 的范数. \n",
    "\n",
    "做法如下：将上面两个等式相减得：\n",
    "$$\n",
    "\\delta Ax + (A + \\delta A)\\delta x = \\delta b\n",
    "$$\n",
    "\n",
    "$$\n",
    "(A + \\delta A)\\delta x = \\delta b - \\delta Ax - \\delta A\\delta x + \\delta A\\delta x\n",
    "$$\n",
    "\n",
    "$$\n",
    "A\\delta x = \\delta b - \\delta A\\hat{x}\n",
    "$$\n",
    "\n",
    "$$\n",
    "\\delta x = A^{-1}(-\\delta A\\hat{x} + \\delta b)\n",
    "$$\n",
    "\n",
    "取范数并利用向量范数的三角不等式，得到\n",
    "$$\n",
    "\\norm{\\delta x}\\leq\\norm{A^{-1}}(\\norm{\\delta A}\\cdot \\norm{\\hat{x}} + \\norm{\\delta b})\n",
    "$$\n",
    "进一步整理该不等式得到\n",
    "$$\n",
    "\\frac{\\norm{\\delta x}}{\\norm{\\hat{x}}}\\leq\\norm{A^{-1}}\\cdot\\norm{A}\\cdot(\\frac{\\norm{\\delta A}}{\\norm{A}} + \\frac{\\norm{\\delta b}}{\\norm{A}\\cdot\\norm{\\hat{x}}})\n",
    "$$\n",
    "\n",
    "量 $\\kappa(A) = \\norm{A^{-1}}\\cdot \\norm{A}$ 是矩阵 $A$ 的条件数\n",
    "\n",
    "若 $\\delta A$ 和 $\\delta b$是小的，则与 $\\kappa(A) $想乘的量将是很小的，得到相对误差 $\\frac{\\norm{\\delta x}}{\\norm{\\hat{x}}}$ 的一个小的上界.\n"
   ]
  },
  {
   "cell_type": "markdown",
   "metadata": {},
   "source": [
    "**引理2.1** 设 $\\norm{\\cdot}$ 满足 $\\norm{AB}\\leq \\norm{A}\\cdot\\norm{B}$. 则 $\\norm{x} < 1$ 推出 $I - X$ 可逆， $（I - X）^{-1} = \\begin{matrix} \\sum_{i=0}^{\\infty} X^i \\end{matrix}$, 并且 $\\norm{(I - X)^{-1}}\\leq\\frac{1}{1 - \\norm{x}}$\n",
    "\n",
    "\n",
    "**证明**： 和 $\\begin{matrix} \\sum_{i=0}^{\\infty} X^i \\end{matrix}$ 收敛当且仅当它按每个分量收敛.而对于每个范数， 存在一个常数 $c$ 使得 $\\left| x_{jk}\\right|\\leq c\\cdot\\norm{X}$(范数等价性)\n",
    "\n",
    "由此得到：\n",
    "$$\n",
    "\\left|(X^i)_{jk}\\right|\\leq c\\cdot\\norm{X^i}\\leq c\\cdot{\\norm{X}}^i\n",
    "$$\n",
    "\n",
    "故 $\\sum X^i $ 的每个分量被一个收敛的几何级数 $\\sum c{\\norm{X}}^i = \\frac{c}{1 - \\norm{x}}$ 所控制，则必定收敛.\n",
    "\n",
    "所以当 $n\\rightarrow \\infty$ 时 $S_n = \\begin{matrix} \\sum_{i=0}^n \\end{matrix}{\\norm{X}}^i$ 收敛于某个 $S$，并且当 $n\\rightarrow \\infty$ 时，\n",
    "\n",
    "$$\n",
    "\\begin{aligned}\n",
    "(I - X)S_n = & (I - X)(I + X + X^2 + \\cdots + X^n) \\\\\n",
    "= & I - X^{n+1}\\rightarrow I\n",
    "\\end{aligned}\n",
    "$$\n",
    "\n",
    "因为 $\\norm{X^i}\\leq{\\norm{X}}^i\\rightarrow 0$.所以 $(I - X)S_n = I$ 得到 $S = (I - X)^{-1}$ \n",
    "\n",
    "最后的界是\n",
    "$$\n",
    "\\norm{(I - X)^{-1}} =  \\norm{\\begin{matrix} \\sum_{i=0}^{\\infty} X^i \\end{matrix}}\\leq\\begin{matrix} \\sum_{i=0}^{\\infty} \\norm{X^i}\\end{matrix} \\leq  \\begin{matrix} \\sum_{i=0}^{\\infty} {\\norm{X}}^i \\end{matrix}= \\frac{1}{1 - \\norm{X}} \\quad\\square\n",
    "$$ \n"
   ]
  },
  {
   "cell_type": "markdown",
   "metadata": {},
   "source": [
    "对第一个方程 $\\delta Ax + (A + \\delta A)\\delta x = \\delta b$ 求解 $\\delta x$ 得到：  \n",
    "\n",
    "$$\n",
    "\\begin{aligned}\n",
    "\\delta x = & (A + \\delta A)^{-1}(-\\delta Ax + \\delta b) \\\\\n",
    "= & \\left[ A(I + A^{-1}\\delta A)\\right]^{-1}(-\\delta Ax + \\delta b) \\\\\n",
    "= & (I + A^{-1}\\delta A)^{-1}A^{-1}(-\\delta Ax + \\delta b)\n",
    "\\end{aligned}\n",
    "$$\n",
    "\n",
    "取范数，两边用 $\\norm{x}$ 相除，并假定 $\\delta A$ 足够小使得 $\\norm{A^{-1}\\delta A}\\leq \\norm{A^{-1}}\\cdot\\norm{\\delta A} < 1$ 成立，即得所要求的界：\n",
    "\n",
    "$$\n",
    "\\begin{aligned}\n",
    "\\frac{\\norm{\\delta x}}{x}\\leq & \\norm{(I + A^{-1}\\delta A)^{-1}}\\cdot \\norm{A^{-1}}(\\norm{\\delta A} + \\frac{\\norm{\\delta b}}{\\norm{x}}) \\\\\n",
    "\\leq & \\frac{\\norm{A^{-1}}}{1 - \\norm{A^{-1}}\\cdot \\norm{\\delta A}}(\\norm{\\delta A} + \\frac{\\norm{\\delta b}}{\\norm{x}}) \\\\\n",
    "= & \\frac{\\norm{A^{-1}}\\cdot \\norm{A}}{1 - \\norm{A^{-1}}\\cdot \\norm{A}\\frac{\\norm{\\delta A}}{\\norm{A}}}(\\frac{\\norm{\\delta A}}{\\norm{A}} + \\frac{\\norm{\\delta b}}{\\norm{A}\\cdot \\norm{x}}) \\\\\n",
    "\\leq & \\frac{\\kappa(A)}{1 - \\kappa(A)\\frac{\\norm{\\delta A}}{\\norm{A}}}(\\frac{\\norm{\\delta A}}{\\norm{A}} + \\frac{\\norm{\\delta b}}{b}) \n",
    "\\end{aligned}\n",
    "$$\n",
    "\n",
    "这个界把解中的相对误差表示为输入中的相对误差 $\\frac{\\norm{\\delta A}}{\\norm{A}}$ 和 $\\frac{\\norm{\\delta b}}{\\norm{b}}$ 的倍数，当 $\\norm{\\delta A}$ 足够小时，乘子 $\\frac{\\kappa(A)}{1 - \\kappa(A)\\frac{\\norm{\\delta A}}{\\norm{A}}}$ 接近于条件数 $\\kappa(A)$."
   ]
  },
  {
   "cell_type": "markdown",
   "metadata": {},
   "source": [
    "**定理2.1** 设 $A$ 非奇异.则\n",
    "\n",
    "$$\n",
    "\\min\n",
    "\\left\\{\n",
    "\\frac{\\norm{\\delta A}_2 }{\\norm{A}_2}: A + \\delta A \\text{ 是奇异的 }\n",
    "\\right\\}\n",
    " = \\frac{1}{\\norm{A^{-1}}_2\\cdot \\norm{A}_2} = \\frac{1}{\\kappa(A)}\n",
    "$$\n",
    "\n",
    "所以，到最近的奇异矩阵的距离（不适定问题） = $\\frac{1}{条件数}$"
   ]
  },
  {
   "cell_type": "markdown",
   "metadata": {},
   "source": [
    "**证明** 首先证明上述的最小值至少是 $\\frac{1}{\\norm{A^{-1}}_2}$.\n",
    "因为若 $\\norm{\\delta A}_2 < \\frac{1}{\\norm{A^{-1}}_2}$, 则 \n",
    "\n",
    "$$\n",
    "1 > \\norm{\\delta A}_2 \\norm{A^{-1}}_2 \\geq \\norm{A^{-1}\\delta A}_2,\n",
    "$$ \n",
    "\n",
    "易知 $I + A^{-1}\\delta A$ 是可逆的，进而 $A + \\delta A$ 可逆，与集合的性质矛盾\n",
    "\n",
    "其次证明上述最小值等于 $\\frac{1}{\\norm{A^{-1}}_2}$.\n",
    "这里需要构造一个范数为 $\\frac{1}{\\norm{A^{-1}}_2}$ 的 $\\delta A$ 使得 $A + \\delta A$ 奇异. 因为 \n",
    "\n",
    "$$\n",
    "\\norm{A^{-1}}_2 = \\max_{x\\not=0}\\frac{\\norm{A^{-1}x}_2}{\\norm{x}_2},\n",
    "$$\n",
    "\n",
    "所以存在 $\\norm{x}_2 = 1$, 使得\n",
    "\n",
    "$$\n",
    "\\norm{A^-1}_2 = \\norm{A^{-1}x}_2 >0.\n",
    "$$\n",
    "\n",
    "构造向量 \n",
    "$$\n",
    "y = \\frac{A^{-1}x}{\\lVert A^{-1}x\\rVert_2} = \\frac{A^{-1}x}{\\lVert A^{-1}\\rVert_2}，\n",
    "$$ \n",
    "易知  $\\lVert y\\rVert_2 = 1$.\n",
    "\n",
    "设   \n",
    "\n",
    "$$\n",
    "\\delta A =  \\frac{-xy^T}{\\norm{A^{-1}}_2}，\n",
    "$$ \n",
    "\n",
    "由矩阵 2 范数的定义，可知:\n",
    "\n",
    "$$\n",
    " \\norm{\\delta A}_2 = \\max_{z\\ne 0}\\frac{\\norm{xy^Tz}_2}{\\norm{A^{-1}}_2\\norm{z}_2} = \\max_{z\\ne 0}\\frac{\\left| y^Tz\\right|\\norm{x}_2}{\\norm{A^{-1}}_2\\norm{z}_2} = \\frac{1}{\\norm{A^{-1}}_2}\n",
    "$$\n",
    "\n",
    "上式当 $z$ 是 $y$ 的任意非零倍数时达到最大值 $\\frac{1}{\\norm{A^{-1}}_2}$. 由下面等式  \n",
    "\n",
    "$$\n",
    "(A + \\delta A)y = Ay - \\frac{xy^Ty}{\\norm{A^{-1}}_2} = \\frac{x}{\\norm{A^{-1}}_2}-\\frac{x}{\\norm{A^{-1}}_2} = 0， \n",
    "$$ \n",
    "\n",
    "可知 $A+\\delta A$ 是奇异矩阵。 $\\quad\\square$"
   ]
  },
  {
   "cell_type": "markdown",
   "metadata": {
    "collapsed": true
   },
   "source": [
    "若 $\\hat{x}$ 是一个任意向量，可以如下求出差 $\\delta x\\equiv\\hat{x} - x = \\hat{x} - A^{-1}b$ 的界. \n",
    "\n",
    "设 $r = A\\hat{x} - b$ 是 $\\hat{x}$ 的残差，当 $\\hat{x} = x$ 时残差 $r$ 为零. 记 $\\delta x = A^{-1}r$, 得到界\n",
    "\n",
    "$$\n",
    "\\norm{\\delta x} = \\norm{A^{-1}r}\\leq\\norm{A^{-1}}\\cdot\\norm{r}.\n",
    "$$"
   ]
  },
  {
   "cell_type": "markdown",
   "metadata": {},
   "source": [
    "**定理2.2** 设 $r = A\\hat{x} - b$.则存在一个 $\\delta A$\n",
    "\n"
   ]
  },
  {
   "cell_type": "code",
   "execution_count": null,
   "metadata": {
    "collapsed": true
   },
   "outputs": [],
   "source": []
  }
 ],
 "metadata": {
  "kernelspec": {
   "display_name": "Python 3",
   "language": "python",
   "name": "python3"
  },
  "language_info": {
   "codemirror_mode": {
    "name": "ipython",
    "version": 3
   },
   "file_extension": ".py",
   "mimetype": "text/x-python",
   "name": "python",
   "nbconvert_exporter": "python",
   "pygments_lexer": "ipython3",
   "version": "3.6.1"
  }
 },
 "nbformat": 4,
 "nbformat_minor": 2
}
