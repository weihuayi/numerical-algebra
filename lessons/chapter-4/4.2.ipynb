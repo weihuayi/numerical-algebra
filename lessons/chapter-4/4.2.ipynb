{
 "cells": [
  {
   "cell_type": "markdown",
   "metadata": {},
   "source": [
    "# Canonical Forms"
   ]
  },
  {
   "cell_type": "markdown",
   "metadata": {},
   "source": [
    "**Definition 4.4** An invariant subspace of $A$ is a subspace $\\mathbf X$ of $\\mathbb R^n$, with the property that $x\\in\\mathbf X$ implies that $Ax\\in\\mathbf X$. We also write this as $A\\mathbf X\\subseteq X$"
   ]
  },
  {
   "cell_type": "markdown",
   "metadata": {},
   "source": [
    "**Proposition 4.3** Let $A$ be $n$-by-$n$, let $X = [x_1, \\cdots, x_m]$ be any $n$-by-$n$ matrix with independent columns, and let $\\mathbf X=\\text{span}(X)$, the $m$-dimensional space spanned by the columns of $X$. Then $\\mathbf X$ is an invariant subspace if and only if there is an $m$-by-$m$ matrix $B$ such that $AX=XB$. In this case the $m$eigenvalues of $B$ are also eigenvalues of $A$"
   ]
  },
  {
   "cell_type": "markdown",
   "metadata": {},
   "source": [
    "**Theorem 4.2 Schur canonical form** Given $A$, there exists a unitary matrix $Q$ and an upper triangular matrix $T$ such that $Q^*AQ=T$. The eigenvalues of $A$ are the diagonal entries of $T$"
   ]
  },
  {
   "cell_type": "markdown",
   "metadata": {},
   "source": [
    "**Theorem 4.3 Real Schur canonical form** If $A$ is real, there exist a real orthogonal matrix $V$ such taht $V^TAV=T$ is quasi-upper triangular. This means that $T$ is block upper triangular with 1-by-1 and 2-by-2 blocks on the diagonal. \n",
    "* Its eigenvalues are the eigenvalues of its diagonal blocks. \n",
    "* The 1-by-1 blocks correspond to real eigenvalues \n",
    "* The 2-by-2 blocks to complex conjugate pairs of eigenvalues"
   ]
  },
  {
   "cell_type": "code",
   "execution_count": null,
   "metadata": {
    "collapsed": true
   },
   "outputs": [],
   "source": []
  }
 ],
 "metadata": {
  "kernelspec": {
   "display_name": "Python 3",
   "language": "python",
   "name": "python3"
  },
  "language_info": {
   "codemirror_mode": {
    "name": "ipython",
    "version": 3
   },
   "file_extension": ".py",
   "mimetype": "text/x-python",
   "name": "python",
   "nbconvert_exporter": "python",
   "pygments_lexer": "ipython3",
   "version": "3.5.2"
  },
  "latex_envs": {
   "bibliofile": "biblio.bib",
   "cite_by": "apalike",
   "current_citInitial": 1,
   "eqLabelWithNumbers": true,
   "eqNumInitial": 0
  }
 },
 "nbformat": 4,
 "nbformat_minor": 1
}
