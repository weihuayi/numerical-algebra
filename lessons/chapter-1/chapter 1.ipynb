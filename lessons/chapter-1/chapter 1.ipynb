{
 "cells": [
  {
   "cell_type": "markdown",
   "metadata": {},
   "source": [
    "1.1 基本符号  "
   ]
  },
  {
   "cell_type": "markdown",
   "metadata": {},
   "source": [
    "1.2 数值线性代数的标准问题  \n",
    "+ 线性方程组  \n",
    "+ 最小二乘问题  \n",
    "+ 特征值问题  \n",
    "+ 奇异值问题"
   ]
  },
  {
   "cell_type": "markdown",
   "metadata": {},
   "source": [
    "1.3 一般的方法  \n",
    "+ 矩阵分解  \n",
    "  * 方法: forward substitution\n",
    "$$\n",
    "\\begin{bmatrix}\n",
    "a_{11} \\\\\n",
    "a_{21} & a_{22} \\\\\n",
    "\\vdots &  & \\ddots \\\\\n",
    "a_{n1} & a_{n2} & \\cdots & a_{nn}\n",
    "\\end{bmatrix}\n",
    "\\begin{bmatrix}\n",
    "x_1 \\\\\n",
    "x_2 \\\\\n",
    "\\vdots \\\\\n",
    "x_n\n",
    "\\end{bmatrix}\n",
    "=\n",
    "\\begin{bmatrix}\n",
    "b_1 \\\\\n",
    "b_2 \\\\\n",
    "\\vdots \\\\\n",
    "b_n\n",
    "\\end{bmatrix}\n",
    "$$\n",
    "+ 扰动理论和条件数  \n",
    "  * 相对误差：$\\frac{\\left| f(x+\\vartriangle x) - f(x)\\right|}{\\left|f(x) \\right|} $\n",
    "+ 舍入误差对算法的影响，包括浮点运算的性质\n",
    "+ 分析算法的速度\n",
    "+ 数值计算软件    \n"
   ]
  },
  {
   "cell_type": "code",
   "execution_count": null,
   "metadata": {
    "collapsed": true
   },
   "outputs": [],
   "source": []
  }
 ],
 "metadata": {
  "kernelspec": {
   "display_name": "Python 3",
   "language": "python",
   "name": "python3"
  },
  "language_info": {
   "codemirror_mode": {
    "name": "ipython",
    "version": 3
   },
   "file_extension": ".py",
   "mimetype": "text/x-python",
   "name": "python",
   "nbconvert_exporter": "python",
   "pygments_lexer": "ipython3",
   "version": "3.6.2"
  }
 },
 "nbformat": 4,
 "nbformat_minor": 2
}
