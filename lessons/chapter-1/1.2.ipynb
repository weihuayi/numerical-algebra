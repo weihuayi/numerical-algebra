{
 "cells": [
  {
   "cell_type": "markdown",
   "metadata": {},
   "source": [
    "# 1.2 数值线性代数的标准问题(Standard Problems of Numerical Linear Algebra)"
   ]
  },
  {
   "cell_type": "markdown",
   "metadata": {},
   "source": [
    "## 数值代数研究的四种标准问题:"
   ]
  },
  {
   "cell_type": "markdown",
   "metadata": {},
   "source": [
    "+ 线性方程组:解 $Ax = b$ .这里 $A$ 是一个已知的 $n\\times n$ 阶非奇异实的或复的矩阵, $b$ 是一个已知的 $n$ 维列向量， $x$ 是我们要求的 $n$ 维列向量."
   ]
  },
  {
   "cell_type": "markdown",
   "metadata": {},
   "source": [
    "+ 最小二乘问题:计算极小化 $\\lVert Ax-b\\rVert_2$ 的 $x$ ，这里 $A$ s是 $m\\times n$ 阶的， $b$ 是 $m\\times 1$ 阶的， $x$  是 $n\\times 1$ 阶的，而 $\\lVert y\\rVert_2 \\equiv \\sqrt{\\sum_{i}\\mid y_i\\mid^2}$ 称为向量 $y$ 的 2-范数.若 $m > n$ ,即方程数大于未知量的个数，这个方程称为超定的.此时，一般不能精确地求解 $Ax = b$ .若 $m < n$ ,这个方程是亚定的，其将有无穷多个解."
   ]
  },
  {
   "cell_type": "markdown",
   "metadata": {},
   "source": [
    "+ 特征值问题:给定 $n\\times n$ 阶矩阵 $A$ ，求 $n\\times 1$ 阶非零向量 $x$ 和标量 $\\lambda$ 使得 $Ax = \\lambda x$."
   ]
  },
  {
   "cell_type": "markdown",
   "metadata": {},
   "source": [
    "+ 奇异值问题:给定 $m\\times n$ 的矩阵 $A$ ，求 $n\\times 1$ 阶非零向量 $x$ 和标量 $\\lambda$ 使得 $A^TAx = \\lambda x$."
   ]
  },
  {
   "cell_type": "code",
   "execution_count": null,
   "metadata": {
    "collapsed": true
   },
   "outputs": [],
   "source": []
  }
 ],
 "metadata": {
  "kernelspec": {
   "display_name": "Python 3",
   "language": "python",
   "name": "python3"
  },
  "language_info": {
   "codemirror_mode": {
    "name": "ipython",
    "version": 3
   },
   "file_extension": ".py",
   "mimetype": "text/x-python",
   "name": "python",
   "nbconvert_exporter": "python",
   "pygments_lexer": "ipython3",
   "version": "3.6.2"
  }
 },
 "nbformat": 4,
 "nbformat_minor": 2
}
