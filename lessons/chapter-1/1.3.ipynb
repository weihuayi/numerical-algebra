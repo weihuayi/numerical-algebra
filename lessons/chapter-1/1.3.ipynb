{
 "cells": [
  {
   "cell_type": "markdown",
   "metadata": {},
   "source": [
    "$$\n",
    "\\newcommand{\\abs}[1] {\\mid #1 \\mid}\n",
    "$$"
   ]
  },
  {
   "cell_type": "markdown",
   "metadata": {},
   "source": [
    "# 1.3 一般的方法(General Techniques)"
   ]
  },
  {
   "cell_type": "markdown",
   "metadata": {},
   "source": [
    " #### 以下是我们将要反复使用的一般的概念和方法:"
   ]
  },
  {
   "cell_type": "markdown",
   "metadata": {},
   "source": [
    "1.矩阵分解  \n",
    "\n",
    "2.扰动理论和条件数  \n",
    "\n",
    "3.舍入误差对算法的影响，包括浮点运算的性质  \n",
    "\n",
    "4.分析算法的速度  \n",
    "\n",
    "5.数值计算软件"
   ]
  },
  {
   "cell_type": "markdown",
   "metadata": {},
   "source": [
    "## 1.3.1 矩阵分解(Matrix Factorizations)"
   ]
  },
  {
   "cell_type": "markdown",
   "metadata": {},
   "source": [
    "**例1.1** 假如要求解 $\\mathbf{Ax = b}$ .若 $A$ 是下三角矩阵，利用 $\\mathit{\\text{向前回代}}$ :  \n",
    "容易求解:\n",
    "\n",
    "$$\n",
    "\\begin{bmatrix}\n",
    "a_{11} \\\\\n",
    "a_{21} & a_{22} \\\\\n",
    "\\vdots &  & \\ddots \\\\\n",
    "a_{n1} & a_{n2} & \\cdots & a_{nn}\n",
    "\\end{bmatrix}\n",
    "\\begin{bmatrix}\n",
    "x_1 \\\\\n",
    "x_2 \\\\\n",
    "\\vdots \\\\\n",
    "x_n\n",
    "\\end{bmatrix}\n",
    "=\n",
    "\\begin{bmatrix}\n",
    "b_1 \\\\\n",
    "b_2 \\\\\n",
    "\\vdots \\\\\n",
    "b_n\n",
    "\\end{bmatrix}\n",
    "$$"
   ]
  },
  {
   "cell_type": "markdown",
   "metadata": {},
   "source": [
    "若 $\\mathbf A$ 是上三角阵，可利用类似的 $\\mathit{\\text{向后回代}}$ 思想求解."
   ]
  },
  {
   "cell_type": "markdown",
   "metadata": {},
   "source": [
    "为利用这些思想求解一般的方程组 $\\mathbf {Ax = b}$,需要下面的矩阵分解."
   ]
  },
  {
   "cell_type": "markdown",
   "metadata": {},
   "source": [
    "**定理1.1** 若 $n\\times n$ 阶矩阵 $\\mathbf A$ 非奇异，则存在一个置换矩阵 $\\mathbf P$ (对单位矩阵进行行置换后得到的矩阵)、一个非奇异下三角矩阵 $\\mathbf L$ 和一个非奇异上三角阵 $\\mathbf U$， \n",
    "\n",
    "使得 $\\mathbf {A = P\\cdot L\\cdot U}$.为求解 $\\mathbf {Ax = b}$，我们如下求解等价的方程组 $\\mathbf {PLUx = b}$:"
   ]
  },
  {
   "cell_type": "markdown",
   "metadata": {},
   "source": [
    "$$\n",
    "\\mathbf{LUx = P^{-1}b = P^Tb  \\quad(\\text{置换}b\\text{的元素})}\n",
    "$$\n",
    "\n",
    "$$\n",
    "\\mathbf{Ux = L^{-1}(P^{-1}b)  \\quad(\\text{向前回代})}\n",
    "$$\n",
    "\n",
    "$$\n",
    "\\mathbf{x = U^{-1}(L^{-1}P^{-1}b) \\quad(\\text{向后回代})}\n",
    "$$"
   ]
  },
  {
   "cell_type": "markdown",
   "metadata": {},
   "source": [
    "我们将在2.3节中证明此定理."
   ]
  },
  {
   "cell_type": "markdown",
   "metadata": {},
   "source": [
    "**例1.2** 若尔当(Jordan)典范分解 $\\mathbf {A = VJV^{-1}}$ 显示 $\\mathbf A$ 的特征值和特征向量.  \n",
    "\n",
    "$\\mathbf V$ 是一个非奇异矩阵，其列包含特征向量.   $\\mathbf J$ 是 $\\mathbf A$ 的 $\\mathit{\\text{若尔当典范型}}$，$\\mathbf A$ 的特征值在它的对角线上.  \n",
    "\n",
    "在数值计算中，舒尔(Schur)分解  $\\mathbf {A = UTU^*}$ 也很常见.\n",
    "其中 $\\mathbf U$ 是酉阵，$\\mathbf T$ 是上三角阵，$\\mathbf A$ 的特征值在其对角线上."
   ]
  },
  {
   "cell_type": "markdown",
   "metadata": {},
   "source": [
    "## 1.3.2 扰动理论和条件数(Peryurbation Theory and Condition Numbers)"
   ]
  },
  {
   "cell_type": "markdown",
   "metadata": {},
   "source": [
    "由数值算法得到的结果很少完全正确，它存在两个误差源."
   ]
  },
  {
   "cell_type": "markdown",
   "metadata": {},
   "source": [
    "1.输入数据到算法中可能产生的误差，它由先前的计算或者先前的测量引起的.  \n",
    "\n",
    "2.存在由算法本身引起的误差，它由在算法之内做近似."
   ]
  },
  {
   "cell_type": "markdown",
   "metadata": {},
   "source": [
    "**例 1.3** 设 $f(x)$ 是实变量 $x$ 的一个实值可微函数.我们不知道确切的 $x$,假设给定 $x + \\delta x$ 和 $\\delta x$ 的界.计算 $f(x)$ 的值."
   ]
  },
  {
   "cell_type": "markdown",
   "metadata": {},
   "source": [
    "分析:我们可以做的是计算 $f(x + \\delta x)$,并试图给出绝对误差 $\\abs{f(x + \\delta x)-f(x)}$ 的界.  \n",
    "\n",
    "利用对 $f$ 的一个简单的线性近似得到估计\n",
    "\n",
    "$$\n",
    "f(x + \\delta x) \\approx f(x) + \\delta xf'(x),\n",
    "$$\n",
    "故\n",
    "\n",
    "$$\n",
    "\\abs{f(x + \\delta x) - f(x)} \\approx \\abs{\\delta x}\\abs {f'(x)}.\n",
    "$$\n",
    "称 $\\abs{f'(x)}$ 为 $f$ 在 $x$ 上的 $\\mathit{\\text{绝对条件数}}.$  \n",
    "\n",
    "若 $\\abs{f'(x)}$ 足够大，即使 $\\delta x$ 很小，误差可能很大.  \n",
    "\n",
    "此时，称 $f$ 于 $x$ 处 $\\mathit{\\text{病态}}.$"
   ]
  },
  {
   "cell_type": "markdown",
   "metadata": {},
   "source": [
    "通常也可以用下面的表达式来界定误差:\n",
    "\n",
    "$$\n",
    "\\frac{\\abs{f(x+\\delta x) - f(x)}}{\\abs{f(x)}} \\approx \\frac{\\abs{\\delta x}}{\\abs x}\\cdot\\frac{\\abs{f'(x)}\\cdot\\abs x}{\\abs{f'(x)}}\n",
    "$$"
   ]
  },
  {
   "cell_type": "markdown",
   "metadata": {},
   "source": [
    "输入时相对改变 $\\frac{\\abs{\\delta x}}{\\abs{x}}$ 倍数，可以界定 $\\mathit{\\text{相对误差}}\\frac{\\abs{f(x +\\delta x)-f(x)}}{\\abs{f(x)}}.$"
   ]
  },
  {
   "cell_type": "markdown",
   "metadata": {},
   "source": [
    "因子 $\\frac{\\abs{f'(x)}\\cdot\\abs{x}}{\\abs{f(x)}}$ 称为 $\\mathit{\\text{相对条件数}}$，或简称 $\\mathit{\\text{条件数}}$."
   ]
  },
  {
   "cell_type": "markdown",
   "metadata": {},
   "source": [
    "## 1.3.3 舍入误差对算法的影响(Effects of Roundoff Error on Algorithms)"
   ]
  },
  {
   "cell_type": "markdown",
   "metadata": {},
   "source": [
    "设 $alg(x)$ 是含有舍入影响的 $f(x)$ 的算法."
   ]
  },
  {
   "cell_type": "markdown",
   "metadata": {},
   "source": [
    "若对一切 $x$ 存在一个”小的“ $\\delta x$,使得 $alg(x) = f(x + \\delta x)$, \n",
    "\n",
    "则称 $alg(x)$ 为 $f(x)$ 的 $\\mathit{\\text{向后稳定算法}}$, $\\delta x$ 称为 $\\mathit{\\text{向后误差}}$."
   ]
  },
  {
   "cell_type": "markdown",
   "metadata": {},
   "source": [
    "这蕴含可界定误差为绝对条件数 $\\abs{f'(x)}$ 与向后误差 $\\abs{\\delta x}$ 的值的乘积:\n",
    "\n",
    "$$\n",
    "error = \\abs{alg(x) - f(x)} = \\abs{f(x + \\delta x) - f(x)} \\approx \\abs{f'(x)\\cdot\\abs{\\delta x}}\n",
    "$$"
   ]
  },
  {
   "cell_type": "markdown",
   "metadata": {},
   "source": [
    "## 1.3.4 分析算法的速度（Analyzing the Speed of Algorithms）"
   ]
  },
  {
   "cell_type": "markdown",
   "metadata": {},
   "source": [
    "在选择求解一个问题的算法中，要考虑它的运算速度以及向后稳定性."
   ]
  },
  {
   "cell_type": "markdown",
   "metadata": {},
   "source": [
    "估计一个算法所花时间通常的方式是计算算法所执行的 $flops$ 或称 $\\mathit{\\text{浮点运算量}}$."
   ]
  },
  {
   "cell_type": "markdown",
   "metadata": {},
   "source": [
    "## 1.3.5 数值计算软件(Engineering Numerical Software)"
   ]
  },
  {
   "cell_type": "markdown",
   "metadata": {},
   "source": [
    "在设计或选择一个数值计算软件时有三个主要问题需要考虑: $\\mathit{\\text{易操作性、可靠性}}$ 和 $\\mathit{\\text{速度}}$."
   ]
  },
  {
   "cell_type": "markdown",
   "metadata": {},
   "source": [
    "如果已有的软件能够解决你的问题，则它的容易操作的好处可能优于任何其他考虑.  \n",
    "\n",
    "若你只是偶尔利用软件来解决你的问题，则使用由专家编写的用于一般用途的软件是比较方便的，用不着自己编写更特殊的程序."
   ]
  },
  {
   "cell_type": "markdown",
   "metadata": {},
   "source": [
    "利用其他专家的软件有三种方式:\n",
    "+ 传统的软件库，它由求解一组固定问题的子程序汇集组成.\n",
    "+ 能提供像 $LAPACK$ 这样的库更加轻松的使用环境，但也失去了某些性能.例如商用系统(Matlab)或其他系统.\n",
    "+ 用简单的程序块组成较复杂算法方法，也称 $\\mathit{\\text{模板}}$."
   ]
  },
  {
   "cell_type": "code",
   "execution_count": null,
   "metadata": {
    "collapsed": true
   },
   "outputs": [],
   "source": []
  }
 ],
 "metadata": {
  "kernelspec": {
   "display_name": "Python 3",
   "language": "python",
   "name": "python3"
  },
  "language_info": {
   "codemirror_mode": {
    "name": "ipython",
    "version": 3
   },
   "file_extension": ".py",
   "mimetype": "text/x-python",
   "name": "python",
   "nbconvert_exporter": "python",
   "pygments_lexer": "ipython3",
   "version": "3.6.2"
  }
 },
 "nbformat": 4,
 "nbformat_minor": 2
}
