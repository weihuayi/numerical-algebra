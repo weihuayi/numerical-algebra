{
 "cells": [
  {
   "cell_type": "markdown",
   "metadata": {},
   "source": [
    "### 1.6"
   ]
  },
  {
   "cell_type": "markdown",
   "metadata": {},
   "source": [
    "对于多项式 \n",
    "$$\n",
    "f(x)  = (x - 2)^9\n",
    "$$\n",
    "对每个浮点运算插入一个舍入项 $(1 +\\delta_i)$ 我们可以得到多项式最后计算值的表达式：\n",
    "$$\n",
    "p_0 = \\sum_{i=0}^{d-1} [(1+\\delta_i^\\prime)\\prod_{j=0}^{i-1} (1 +\\delta_j)(1+\\delta_j^\\prime)]a_ix^i + [\\prod_{j=0}^{d-1} (1 +\\delta_j)(1+\\delta_j^\\prime)]a_dx^d\n",
    "$$"
   ]
  },
  {
   "cell_type": "markdown",
   "metadata": {},
   "source": [
    "利用上下界来简化上式\n",
    "$$\n",
    "(1 +\\delta_1)\\cdots(1 +\\delta_j)\\leq(1 +{\\varepsilon})^j\\leq\\frac{1}{1-j\\varepsilon} =1 + j\\varepsilon + O(\\varepsilon^2)\n",
    "$$\n",
    "由于 $(1 +{\\varepsilon})^j$ 是有限项的，且系数是 $c_j^i (i = 0,1,\\cdots,j)$ 而 $\\frac{1}{1-j\\varepsilon}$ 的展开式是无限项，且系数呈现 $j^2$ 次增长.\n",
    " $(1 +{\\varepsilon})^j$ 与 $\\frac{1}{1-j\\varepsilon}$ 的前两项是相同的。"
   ]
  },
  {
   "cell_type": "markdown",
   "metadata": {},
   "source": [
    "$$\n",
    "(1 +\\delta_1)\\cdots(1 +\\delta_j)\\ge(1 - {\\varepsilon})^j\\ge1 - j\\varepsilon\n",
    "$$"
   ]
  },
  {
   "cell_type": "markdown",
   "metadata": {},
   "source": [
    "倘若 $j\\varepsilon\\le1$ ,这些界是正确的。通常做合情合理的假设 $j\\varepsilon\\ll$ 并做近似\n",
    "$$\n",
    "1 - j\\varepsilon\\leq(1 +\\delta_1)\\cdots(1 +\\delta_j)\\leq1 + j\\varepsilon\\qquad(*)\n",
    "$$\n",
    "由此，我们记\n",
    "$$\n",
    "p_0 = \\sum_{i=0}^d (1+\\overline{\\delta}_i) = \\sum_{i=0}^d \\overline{a}_ix^i,where \\mid{\\overline{\\delta}_i}\\mid\\leq2d\\varepsilon\n",
    "$$\n",
    "由于 $p_0$ 中每个 $x^i$ 的系数至多含有类似 $1 +\\delta_i$ 的有 $2d$ 项,把 $(*)$ 中 $j$ 换成 $2d$ ,把 $\\delta_j$ 看做 $\\overline\\delta_i$ 便可以得到 $\\mid\\overline\\delta_i\\mid\\leq2d\\varepsilon$ "
   ]
  },
  {
   "cell_type": "markdown",
   "metadata": {},
   "source": [
    "我们选择 ${\\overline{\\delta}_i} = \\varepsilon\\cdot \\text{sign}(a_ix^i)$ ,可以看到在适度的因子 $2d$ 范围内误差界是可以达到的。此时\n",
    "$$\n",
    "\\mid{p_0 - p(x)}\\mid = \\varepsilon{\\sum_{i=0}^d\\mid{a_ix^i}}\\mid\n",
    "$$"
   ]
  },
  {
   "cell_type": "markdown",
   "metadata": {},
   "source": [
    "#### p17"
   ]
  },
  {
   "cell_type": "markdown",
   "metadata": {},
   "source": [
    "关于正确的十进制数字位数的下界 \n",
    "例如：\n",
    "$$\n",
    "\\begin{align}\n",
    "p_0 &= f_1 × 10^m\\\\\n",
    "p(x) &= f_2 × 10^n\\\\\n",
    "\\end{align}\n",
    "$$"
   ]
  },
  {
   "cell_type": "code",
   "execution_count": null,
   "metadata": {
    "collapsed": true
   },
   "outputs": [],
   "source": []
  }
 ],
 "metadata": {
  "kernelspec": {
   "display_name": "Python 3",
   "language": "python",
   "name": "python3"
  },
  "language_info": {
   "codemirror_mode": {
    "name": "ipython",
    "version": 3
   },
   "file_extension": ".py",
   "mimetype": "text/x-python",
   "name": "python",
   "nbconvert_exporter": "python",
   "pygments_lexer": "ipython3",
   "version": "3.6.2"
  },
  "latex_envs": {
   "bibliofile": "biblio.bib",
   "cite_by": "apalike",
   "current_citInitial": 1,
   "eqLabelWithNumbers": true,
   "eqNumInitial": 0
  }
 },
 "nbformat": 4,
 "nbformat_minor": 2
}
