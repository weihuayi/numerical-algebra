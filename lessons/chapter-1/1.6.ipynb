{
 "cells": [
  {
   "cell_type": "markdown",
   "metadata": {},
   "source": [
    "$$\n",
    "\\newcommand{\\abs}[1] {\\mid #1 \\mid}\n",
    "\\newcommand{\\curly}[1] {\\left\\{ #1 \\right\\}}\n",
    "$$"
   ]
  },
  {
   "cell_type": "markdown",
   "metadata": {},
   "source": [
    "# 1.6 再议多项式求值(Polynomial Evaluation Revisited)"
   ]
  },
  {
   "cell_type": "markdown",
   "metadata": {},
   "source": [
    "对于多项式 \n",
    "\n",
    "$$\n",
    "p(x) = \\sum_{i=0}^ia_ix^i\n",
    "$$\n",
    "\n",
    "应用舍入模型(1.1).  \n",
    "\n",
    "我们取原来的程序\n"
   ]
  },
  {
   "cell_type": "markdown",
   "metadata": {},
   "source": [
    "$p = a_d$\n",
    "\n",
    "$for\\,\\ i=d-1\\,\\ down\\,\\ to\\,\\ 0$  \n",
    "\n",
    "$\\quad p = x\\cdot p + a_i$  \n",
    "\n",
    "$end\\,\\ for$  "
   ]
  },
  {
   "cell_type": "markdown",
   "metadata": {},
   "source": [
    "然后对原来的结果增加下标，使得对每一个值有唯一的符号($p_0$ 是最后的结果):"
   ]
  },
  {
   "cell_type": "markdown",
   "metadata": {},
   "source": [
    "$p_d = a_d$\n",
    "\n",
    "$for\\,\\ i=d-1\\,\\ down\\,\\ to\\,\\ 0$  \n",
    "\n",
    "$\\quad p_i = x\\cdot p_{i+1} + a_i$  \n",
    "\n",
    "$end\\,\\ for$  "
   ]
  },
  {
   "cell_type": "markdown",
   "metadata": {},
   "source": [
    "然后对每个浮点运算插入一个舍入项($1 + \\delta_i$),得到:"
   ]
  },
  {
   "cell_type": "markdown",
   "metadata": {},
   "source": [
    "$p_d = a_d$\n",
    "\n",
    "$for\\,\\ i=d-1\\,\\ down\\,\\ to\\,\\ 0$  \n",
    "\n",
    "$\\quad p_i = ((x\\cdot p_{i+1})(1 + \\delta_i) + a_i)(1 + \\delta_i'),\\quad where\\,\\ \\abs{\\delta_i},\\abs{\\delta_i'}\\le \\varepsilon$  \n",
    "\n",
    "$end\\,\\ for$  "
   ]
  },
  {
   "cell_type": "markdown",
   "metadata": {},
   "source": [
    "展开， 我们可以得到多项式最后计算值的表达式：\n",
    "\n",
    "$$\n",
    "p_0 = \\sum_{i=0}^{d-1} [(1+\\delta_i^\\prime)\\prod_{j=0}^{i-1} (1 +\\delta_j)(1+\\delta_j^\\prime)]a_ix^i + [\\prod_{j=0}^{d-1} (1 +\\delta_j)(1+\\delta_j^\\prime)]a_dx^d\n",
    "$$"
   ]
  },
  {
   "cell_type": "markdown",
   "metadata": {},
   "source": [
    "利用上下界来简化上式\n",
    "\n",
    "$$\n",
    "(1 +\\delta_1)\\cdots(1 +\\delta_j)\\leq(1 +{\\varepsilon})^j\\leq\\frac{1}{1-j\\varepsilon} =1 + j\\varepsilon + O(\\varepsilon^2)\n",
    "$$\n",
    "\n",
    "上式成立的原因:  \n",
    "\n",
    "由于 $(1 +{\\varepsilon})^j$ 是有限项的，且系数是 $c_j^i (i = 0,1,\\cdots,j)$ 而 $\\frac{1}{1-j\\varepsilon}$ 的展开式是无限项，且系数呈现 $j^2$ 次增长.  \n",
    "\n",
    "$(1 +{\\varepsilon})^j$ 与 $\\frac{1}{1-j\\varepsilon}$ 的前两项是相同的。"
   ]
  },
  {
   "cell_type": "markdown",
   "metadata": {},
   "source": [
    "$$\n",
    "(1 +\\delta_1)\\cdots(1 +\\delta_j)\\ge(1 - {\\varepsilon})^j\\ge1 - j\\varepsilon\n",
    "$$"
   ]
  },
  {
   "cell_type": "markdown",
   "metadata": {},
   "source": [
    "倘若 $j\\varepsilon\\le1$ ,这些界是正确的。通常做合情合理的假设 $j\\varepsilon\\ll$ 并做近似\n",
    "$$\n",
    "1 - j\\varepsilon\\leq(1 +\\delta_1)\\cdots(1 +\\delta_j)\\leq1 + j\\varepsilon\\qquad(*)\n",
    "$$\n",
    "由此，我们记\n",
    "$$\n",
    "p_0 = \\sum_{i=0}^d (1+\\overline{\\delta}_i) = \\sum_{i=0}^d \\overline{a}_ix^i,where \\mid{\\overline{\\delta}_i}\\mid\\leq2d\\varepsilon\n",
    "$$\n",
    "\n",
    "( $\\mid\\overline\\delta_i\\mid\\leq2d\\varepsilon$ 原因:  \n",
    " \n",
    "由于 $p_0$ 中每个 $x^i$ 的系数至多含有类似 $1 +\\delta_i$ 的有 $2d$ 项,把 $(*)$ 中 $j$ 换成 $2d$ ,把 $\\delta_j$ 看做 $\\overline\\delta_i$ 便可以得到 $\\mid\\overline\\delta_i\\mid\\leq2d\\varepsilon$ )"
   ]
  },
  {
   "cell_type": "markdown",
   "metadata": {},
   "source": [
    "故 $p(x)$ 的计算值 $p_0$ 是具有系数 $\\overline a_i$ 的一个稍许不同的多项式的精确值."
   ]
  },
  {
   "cell_type": "markdown",
   "metadata": {},
   "source": [
    "利用这个向后误差界，界定计算多项式中的误差为:  \n",
    "\n",
    "$$\n",
    "\\begin{align}\n",
    "\\abs{p_0-p(x)} & = \\abs{\\sum_{i=0}^d(1+\\overline{\\delta}_i)a_ix^i - \\sum_{i=0}^da_ix^i}\\\\\n",
    "& = \\abs{\\sum_{i =0}^d \\overline{\\delta}_ia_ix^i}\\\\\n",
    "& \\le \\sum_{i=0}^d\\varepsilon2d\\abs{a_i\\cdot x^i}\\\\\n",
    "& \\le 2d\\varepsilon\\sum_{i=0}^d\\abs{a_i\\cdot x^i}\n",
    "\\end{align}\n",
    "$$"
   ]
  },
  {
   "cell_type": "markdown",
   "metadata": {},
   "source": [
    "注意:如果正数和负数相加的过程中没有对消，则 $\\sum_i\\abs{a_ix^i}$ 界定为我们可以计算的最大值并且误差界是 $2d\\varepsilon$ 的较小倍数."
   ]
  },
  {
   "cell_type": "markdown",
   "metadata": {},
   "source": [
    "我们选择 ${\\overline{\\delta}_i} = \\varepsilon\\cdot \\text{sign}(a_ix^i)$ ,可以看到在适度的因子 $2d$ 范围内误差界是可以达到的.这意味着可使用\n",
    "\n",
    "$$\n",
    "\\frac{\\sum_{i=0}^d\\abs{a_ix^i}}{\\abs{\\sum_{i=0}^da_ix^i}}\n",
    "$$\n",
    "作为多项式求值的相对条件数."
   ]
  },
  {
   "cell_type": "markdown",
   "metadata": {},
   "source": [
    "花费双倍运算量容易计算这个误差界:"
   ]
  },
  {
   "cell_type": "markdown",
   "metadata": {},
   "source": [
    "$p = a_d,bp = \\abs{a_d}$\n",
    "\n",
    "$for\\,\\ i=d-1\\,\\ down\\,\\ to\\,\\ 0$  \n",
    "\n",
    "$\\quad p = x\\cdot p + a_i$   \n",
    "\n",
    "$\\quad bp = \\abs x\\cdot bp + \\abs {a_i}$ \n",
    "\n",
    "$end\\,\\ for$  "
   ]
  },
  {
   "cell_type": "markdown",
   "metadata": {},
   "source": [
    "故多项式的正确值位于区间  \n",
    "\n",
    "$$\n",
    "[p-bp,p+bp]\n",
    "$$\n",
    "\n",
    "之间，并且确保正确的十进制数字位数是  \n",
    "\n",
    "$$\n",
    "-log_{10}(\\abs{\\frac{bp}{p}})\n",
    "$$."
   ]
  },
  {
   "cell_type": "markdown",
   "metadata": {},
   "source": [
    "**定义 1.1** 条件数为无穷大的问题称为是不适定的，否则称为适定的."
   ]
  },
  {
   "cell_type": "markdown",
   "metadata": {},
   "source": [
    "**定义 1.2** 设 \n",
    "$$\n",
    "p(z) = \\sum_{i=0}^da_iz^i\n",
    "$$ \n",
    "和 \n",
    "$$\n",
    "q(z) = \\sum_{i=0}^db_iz^i.\n",
    "$$\n",
    "\n",
    "定义 $p$ 到 $q$ 的相对距离 $d(p,q)$ 为满足\n",
    "\n",
    "$$\n",
    "\\abs{a_i - b_i} \\le d(p,q)\\cdot \\abs{a_i}\n",
    "$$\n",
    "\n",
    "的最小值,$a\\le i\\le d$."
   ]
  },
  {
   "cell_type": "markdown",
   "metadata": {},
   "source": [
    "注意，若 $a_i = 0$,则因 $d(p,q)$ 有限，$b_i$ 必为零."
   ]
  },
  {
   "cell_type": "markdown",
   "metadata": {},
   "source": [
    "**定理 1.2** 假如 $p(z) = \\sum_{i=0}^da_iz^i$ 不恒等于零，则\n",
    "\n",
    "$$\n",
    "\\min{\\curly{d(p,q):q(x) = 0}} = \\frac{\\sum_{i=0}^da_ix^i}{\\sum_{i=0}^d\\abs{a_ix^i}}\n",
    "$$\n",
    "换言之,从 $p$ 到最近的多项式 $q$ 的距离是 $p(x)$ 的条件数的倒数，其中 $q$ 的条件数在 $x$ 处为无穷大，即 $q(x) = 0$"
   ]
  },
  {
   "cell_type": "markdown",
   "metadata": {},
   "source": [
    "**证明** 记\n",
    "\n",
    "$$\n",
    "q(z) = \\sum b_iz^i = \\sum(1 + \\varepsilon_i)a_iz^i\n",
    "$$\n",
    "\n",
    "使得\n",
    "\n",
    "$$\n",
    "d(p,q) = \\max_i\\abs{\\varepsilon_i}.\n",
    "$$\n",
    "\n",
    "则由\n",
    "\n",
    "$$\n",
    "q(x) = 0\n",
    "$$\n",
    "\n",
    "推出\n",
    "\n",
    "$$\n",
    "\\begin{align}\n",
    "\\abs{p(x)} & = \\abs{q(x) - p(x)}\\\\\n",
    "& = \\abs{\\sum_{i=0}^d\\varepsilon_ia_ix^i}\\\\\n",
    "& \\le \\sum_{i=0}^d\\abs{\\varepsilon_ia_ix^i}\\\\\n",
    "& \\le \\max_i\\abs{\\varepsilon_i}\\sum_i\\abs{a_ix^i}\n",
    "\\end{align}\n",
    "$$\n"
   ]
  },
  {
   "cell_type": "markdown",
   "metadata": {},
   "source": [
    "由此可得\n",
    "\n",
    "$$\n",
    "d(p,q) = \\max\\abs{\\varepsilon_i}\\ge \\frac{\\abs{p(x)}}{\\sum_i\\abs{a_ix^i}}\n",
    "$$\n",
    "\n",
    "为了明白存在一个靠近于 $ p$ 的 $q$，选择\n",
    "\n",
    "$$\n",
    "\\varepsilon_i = \\frac{-p(x)}{\\sum\\abs{a_ix^i}}\\cdot sign(a_ix^i).\\quad   \n",
    "\\square\n",
    "$$"
   ]
  },
  {
   "cell_type": "markdown",
   "metadata": {},
   "source": [
    "关于正确的十进制数字位数的下界 \n",
    "例如：\n",
    "$$\n",
    "\\begin{align}\n",
    "p_0 &= f_1 × 10^m\\\\\n",
    "p(x) &= f_2 × 10^n\\\\\n",
    "\\end{align}\n",
    "$$"
   ]
  },
  {
   "cell_type": "code",
   "execution_count": null,
   "metadata": {
    "collapsed": true
   },
   "outputs": [],
   "source": []
  }
 ],
 "metadata": {
  "kernelspec": {
   "display_name": "Python 3",
   "language": "python",
   "name": "python3"
  },
  "language_info": {
   "codemirror_mode": {
    "name": "ipython",
    "version": 3
   },
   "file_extension": ".py",
   "mimetype": "text/x-python",
   "name": "python",
   "nbconvert_exporter": "python",
   "pygments_lexer": "ipython3",
   "version": "3.6.2"
  },
  "latex_envs": {
   "bibliofile": "biblio.bib",
   "cite_by": "apalike",
   "current_citInitial": 1,
   "eqLabelWithNumbers": true,
   "eqNumInitial": 0
  }
 },
 "nbformat": 4,
 "nbformat_minor": 2
}
