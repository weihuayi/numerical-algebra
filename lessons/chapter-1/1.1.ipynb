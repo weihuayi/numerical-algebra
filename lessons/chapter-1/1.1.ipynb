{
 "cells": [
  {
   "cell_type": "markdown",
   "metadata": {},
   "source": [
    "# 1.1  基本符号(Basic Notation)"
   ]
  },
  {
   "cell_type": "markdown",
   "metadata": {},
   "source": [
    "在本书中经常会提及矩阵、向量和标量."
   ]
  },
  {
   "cell_type": "markdown",
   "metadata": {},
   "source": [
    "$\\mathbf A$ 表示矩阵,其 $(i,j)$ 元素用 $a_{ij}$ 表示,也可以用 $\\mathbf{A(i,j)}$ 表示."
   ]
  },
  {
   "cell_type": "markdown",
   "metadata": {},
   "source": [
    "$\\mathbf{A(i:j,k:l)}$ 表示 $\\mathbf A$ 的位于第 $i$ 行到第 $j$ 行以及第 $k$ 列到第 $l$ 列的子阵."
   ]
  },
  {
   "cell_type": "markdown",
   "metadata": {},
   "source": [
    "$\\mathbf x$ 表示一个向量，其第 $i$ 个元素记作 $x_i$ "
   ]
  },
  {
   "cell_type": "markdown",
   "metadata": {},
   "source": [
    "小写的希腊字母表示标量."
   ]
  },
  {
   "cell_type": "markdown",
   "metadata": {},
   "source": [
    "$\\mathbb R$ 表示实数集"
   ]
  },
  {
   "cell_type": "markdown",
   "metadata": {},
   "source": [
    "$\\mathbb R^n$ 表示 $n$ 维实向量集"
   ]
  },
  {
   "cell_type": "markdown",
   "metadata": {},
   "source": [
    "$\\mathbb R^{m\\times n}$ 表示 $m\\times n$ 阶实矩阵"
   ]
  },
  {
   "cell_type": "markdown",
   "metadata": {},
   "source": [
    "$\\mathbb C$ 表示复数集"
   ]
  },
  {
   "cell_type": "markdown",
   "metadata": {},
   "source": [
    "$\\mathbb C^n$ 表示 $n$ 维复向量集"
   ]
  },
  {
   "cell_type": "markdown",
   "metadata": {},
   "source": [
    "$\\mathbb C^{m\\times n}$ 表示 $m\\times n$ 阶复矩阵"
   ]
  },
  {
   "cell_type": "markdown",
   "metadata": {},
   "source": [
    "$\\mathbf A^T$ 表示 $\\mathbf A$ 的转置: $(A^T)_{ij} = a_{ji}$"
   ]
  },
  {
   "cell_type": "markdown",
   "metadata": {},
   "source": [
    "$\\mathbf A^*$ 表示 $\\mathbf A$ 的转置: $(A^*)_{ij} = \\overline a_{ji}$ (复矩阵)"
   ]
  },
  {
   "cell_type": "markdown",
   "metadata": {},
   "source": [
    " 若 $A$ 是 $m\\times n$ 阶矩阵，则 $\\left|A\\right|$ 是 $A$ 的元素的绝对值构成的 $m\\times n$ 阶矩阵: $(|A|)_{ij} = a_{ji}$"
   ]
  },
  {
   "cell_type": "markdown",
   "metadata": {},
   "source": [
    "$|A|\\le|B|$ 表示:对一切的 $i$ 和 $j$ ,$|a_{ij}|\\le|b_{ij}|$ "
   ]
  },
  {
   "cell_type": "code",
   "execution_count": null,
   "metadata": {
    "collapsed": true
   },
   "outputs": [],
   "source": []
  }
 ],
 "metadata": {
  "kernelspec": {
   "display_name": "Python 3",
   "language": "python",
   "name": "python3"
  },
  "language_info": {
   "codemirror_mode": {
    "name": "ipython",
    "version": 3
   },
   "file_extension": ".py",
   "mimetype": "text/x-python",
   "name": "python",
   "nbconvert_exporter": "python",
   "pygments_lexer": "ipython3",
   "version": "3.6.2"
  }
 },
 "nbformat": 4,
 "nbformat_minor": 2
}
