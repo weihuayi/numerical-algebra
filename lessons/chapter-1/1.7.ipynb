{
 "cells": [
  {
   "cell_type": "markdown",
   "metadata": {},
   "source": [
    "$$\n",
    "\\newcommand{\\norm}[1] { \\lVert #1 \\rVert}\n",
    "\\newcommand{\\bracket}[1] {\\left[ #1 \\right]}\n",
    "\\newcommand{\\curly}[1] {\\left\\{ #1 \\right\\}}\n",
    "\\newcommand{\\abs}[1] {\\mid #1 \\mid}\n",
    "\\newcommand{\\inner}[1]{\\left< #1 \\right>}\n",
    "$$"
   ]
  },
  {
   "cell_type": "markdown",
   "metadata": {},
   "source": [
    "# 1.7 向量和矩阵范数(Vector and Matrix Norms)"
   ]
  },
  {
   "cell_type": "markdown",
   "metadata": {},
   "source": [
    "**定义 1.3 ** 设 $\\mathcal B$ 是一个实(复)线性空间 $\\mathbb R^n$(或 $\\mathbb c^n$ ).这个空间是赋范的，若存在一个函数 $\\norm {\\cdot}$: $\\mathcal B\\to \\mathbb R$,它满足下列关系:"
   ]
  },
  {
   "cell_type": "markdown",
   "metadata": {},
   "source": [
    "1) $\\norm {\\mathbf x} \\ge 0$,且 $\\norm{\\mathbf x} = 0$ 当且仅当 $\\mathbf x = 0$(正定性);  \n",
    "\n",
    "2) $\\norm {\\alpha{\\mathbf x}} = \\abs {\\alpha}\\cdot \\norm{\\mathbf x}$,对一切的实(或复)标量 $\\alpha$ 成立(齐次性);  \n",
    "\n",
    "3) $\\norm{\\mathbf{x + y}}\\le \\norm{\\mathbf x} + \\norm{\\mathbf y}$(三角形不等式)"
   ]
  },
  {
   "cell_type": "markdown",
   "metadata": {},
   "source": [
    "我们称此函数为范数."
   ]
  },
  {
   "cell_type": "markdown",
   "metadata": {},
   "source": [
    "**例 1.4** 最常用的范数是  \n",
    "\n",
    "$$\n",
    "\\norm{\\mathbf x}_p = (\\sum_i \\abs{x_i}^p)^{\\frac{1}{p}},1\\le p\\le \\infty,\n",
    "$$\n",
    "\n",
    "称之为 p-范数.  \n",
    "\n",
    "$$\n",
    "\\norm {\\mathbf x}_\\infty = \\max_i\\abs{x_i},\n",
    "$$\n",
    "\n",
    "称之为 $\\infty-$ 范数或无穷范数."
   ]
  },
  {
   "cell_type": "markdown",
   "metadata": {},
   "source": [
    "此外，若 $\\norm {\\mathbf x}$ 是任意的范数而 $\\mathbf C$ 是任意的非异矩阵，则 $\\norm {\\mathbf {Cx}}$ 也是一个范数."
   ]
  },
  {
   "cell_type": "markdown",
   "metadata": {},
   "source": [
    "虽然有许多度量误差的范数，但是重要的是选择一个适当的范数."
   ]
  },
  {
   "cell_type": "markdown",
   "metadata": {},
   "source": [
    "**例** 设 $\\mathbf x_1 = [1,2,3]^T$,分量单位是米，$\\mathbf x_2 = [1.01,2.01,2.99]^T$,分量单位是米，则 $\\mathbf x_2$ 是 $\\mathbf x_1$ 的一个好的近似,因为相对误差:\n",
    "\n",
    "$$\n",
    "    \\frac{\\norm {\\mathbf x_1 - \\mathbf x_2}_{\\infty}}{\\norm {\\mathbf x_1}_{\\infty}} \\approx 0.0033\n",
    "$$"
   ]
  },
  {
   "cell_type": "markdown",
   "metadata": {},
   "source": [
    "而\n",
    "\n",
    "$$\n",
    "\\mathbf x_3 = [10,2.01,2.99]^T\n",
    "$$\n",
    "\n",
    "是一个不好的近似，因为\n",
    "\n",
    "$$\n",
    "\\frac{\\norm {\\mathbf x_1 - \\mathbf x_3}_{\\infty}}{\\norm {\\mathbf x_1}_{\\infty}} \\approx 3.\n",
    "$$"
   ]
  },
  {
   "cell_type": "markdown",
   "metadata": {},
   "source": [
    "但是假定第一个分量用千米而不是米来度量，则在这个范数下 $\\widehat{\\mathbf x}_1$ 和 $\\widehat{\\mathbf x}_3$ 比较接近."
   ]
  },
  {
   "cell_type": "markdown",
   "metadata": {},
   "source": [
    "$$\n",
    "\\widehat{\\mathbf x}_1 = \n",
    "\\begin{bmatrix}\n",
    "0.001 \\\\\n",
    "2 \\\\\n",
    "3\n",
    "\\end{bmatrix},\n",
    "\\widehat{\\mathbf x}_3 =\n",
    "\\begin{bmatrix}\n",
    "0.01 \\\\\n",
    "2.01 \\\\\n",
    "2.99\n",
    "\\end{bmatrix}\n",
    "$$"
   ]
  },
  {
   "cell_type": "markdown",
   "metadata": {},
   "source": [
    "且\n",
    "\n",
    "$$\n",
    "\\frac{\\norm {\\widehat{\\mathbf x}_1 - \\widehat{\\mathbf x}_3}_{\\infty}}{\\norm {\\widehat{\\mathbf x}_1}_{\\infty}} \\approx 0.0033.\n",
    "$$"
   ]
  },
  {
   "cell_type": "markdown",
   "metadata": {},
   "source": [
    "为了比较 $\\widehat{\\mathbf x}_1$ 和 $\\widehat{\\mathbf x}_3$，应该使用\n",
    "\n",
    "$$\n",
    "\\norm{\\widehat{\\mathbf x}}_s =\n",
    "\\begin{Vmatrix}{\n",
    "\\begin{bmatrix}\n",
    "1000 \\\\\n",
    "  & 1 \\\\\n",
    "  &   & 1\n",
    "\\end{bmatrix}\n",
    "\\widehat {\\mathbf x}}\n",
    "\\end{Vmatrix}_{\\infty}\n",
    "$$"
   ]
  },
  {
   "cell_type": "markdown",
   "metadata": {},
   "source": [
    "达到单位相同或者使重要的误差获得同样大的范数."
   ]
  },
  {
   "cell_type": "markdown",
   "metadata": {},
   "source": [
    "**定义 1.4 ** 设 $\\mathcal B$ 是一个实(复)线性空间. $\\inner{\\cdot ,\\cdot}:\\mathcal B\\times \\mathcal B \\to \\mathbb{R}\\mathbb{(C)}$ 是一个内积，如果它适合下面所有条件:"
   ]
  },
  {
   "cell_type": "markdown",
   "metadata": {},
   "source": [
    "1) $\\inner{x,y} = \\inner{y,x}(\\text{或}\\overline{\\inner{y,x}})$;  \n",
    "\n",
    "2) $\\inner{x,y+z} = \\inner{x,y}+\\inner{x,z}$;  \n",
    "\n",
    "3) $\\inner{\\alpha x,y} = \\alpha \\inner{x,y}$,对一切的实(或复)标量 $\\alpha$;  \n",
    "\n",
    "4) $\\inner{x,x}\\ge 0$,当且仅当 $x =0$ 时等号成立."
   ]
  },
  {
   "cell_type": "markdown",
   "metadata": {},
   "source": [
    "**例 1.5 ** 在 $\\mathbb{R}$ 上，$\\inner{x,y} = y^Tx = \\sum_ix_iy_i$,而在 $\\mathbb{C}$ 上，$\\inner{x,y} = y^*x = \\sum_ix_i\\overline{y_i}$ 是内积."
   ]
  },
  {
   "cell_type": "markdown",
   "metadata": {},
   "source": [
    "注意:$y^* = \\overline {y}^T$ 是 $y$ 的共轭转置."
   ]
  },
  {
   "cell_type": "markdown",
   "metadata": {},
   "source": [
    "**定义 1.5** 若 \n",
    "\n",
    "$$\n",
    "\\inner{x,y} = 0,\n",
    "$$\n",
    "\n",
    "则称 $x$ 和 $y$ 是正交的."
   ]
  },
  {
   "cell_type": "markdown",
   "metadata": {},
   "source": [
    "内积最重要的性质是它满足柯西-施瓦茨不等式."
   ]
  },
  {
   "cell_type": "markdown",
   "metadata": {},
   "source": [
    "**引理 1.1** 柯西-施瓦茨不等式: \n",
    "\n",
    "$$\n",
    "\\abs{\\inner{x,y}} \\le \\sqrt{\\inner{x,x}\\cdot\\inner{y,y}}.\n",
    "$$"
   ]
  },
  {
   "cell_type": "markdown",
   "metadata": {
    "collapsed": true
   },
   "source": [
    "**引理 1.2** $\\sqrt{\\inner{x,x}}$ 是一个范数."
   ]
  },
  {
   "cell_type": "markdown",
   "metadata": {},
   "source": [
    "内积和对称(埃尔米特)正定阵之间存在一个如下定义的 1-1 对应，这些矩阵在应用中经常遇到."
   ]
  },
  {
   "cell_type": "markdown",
   "metadata": {},
   "source": [
    "**定义 1.6** 若对一切的 \n",
    "\n",
    "$$\n",
    "\\mathbf x \\ne 0,\n",
    "$$\n",
    "\n",
    "有 \n",
    "\n",
    "$$\n",
    "\\mathbf{x^TAx}>0(\\mathbf{x^*Ax}>0)\n",
    "$$\n",
    "\n",
    "成立,  \n",
    "\n",
    "则称实对称(复埃尔米特) 阵 $\\mathbf A$ 是正定的.简写对称正定为 $s.p.d$,埃尔米特 $h.p.d$."
   ]
  },
  {
   "cell_type": "markdown",
   "metadata": {},
   "source": [
    "**引理 1.3** 设 $\\mathcal B = \\mathbb{R}^n(\\text{或}\\mathbb{C}^n)$,$\\inner{\\cdot,\\cdot}$ 为一个内积，则存在一个 $n\\times n$ 阶 $s.p.d$( $h.p.d$)阵 $\\mathbf A$ 使得 \n",
    "\n",
    "$$\n",
    "\\inner{x,y} = y^T\\mathbf Ax(y^*\\mathbf Ax).\n",
    "$$\n",
    "\n",
    "反之，若 $\\mathbf A$ 是 $s.p.d$( $h.p.d$), 则 $y^T\\mathbf Ax(y^*\\mathbf Ax)$ 是一个内积."
   ]
  },
  {
   "cell_type": "markdown",
   "metadata": {},
   "source": [
    "**引理 1.4** 设 $\\norm{\\cdot}_{\\alpha}$ 和 $\\norm{\\cdot}_{\\beta}$ 是 $\\mathbb{R}^n(\\text{或}\\mathbb{C}^n)$ 上的两个范数,存在常数 $c_1,c_2 > 0$ 使得对一切的 $x$ ,\n",
    "\n",
    "$$\n",
    "c_1\\norm{\\mathbf x}_{\\alpha}\\le \\norm{\\mathbf x}_{\\beta} \\le c_2\\norm{\\mathbf x}_{\\alpha}.\n",
    "$$\n",
    "\n",
    "我们也称范数 $\\norm{\\cdot}_{\\alpha}$ 和 $\\norm{\\cdot}_{\\beta}$ 关于常数 $c_1$ 和 $c_2$ 等价."
   ]
  },
  {
   "cell_type": "markdown",
   "metadata": {},
   "source": [
    "**引理 1.5**  \n",
    "$$\n",
    "\\norm{\\mathbf x}_2\\le \\norm{\\mathbf x}_1 \\le \\sqrt n\\norm{\\mathbf x}_2,\n",
    "$$\n",
    "\n",
    "$$\n",
    "\\norm{\\mathbf x}_{\\infty}\\le \\norm{\\mathbf x}_2 \\le \\sqrt n\\norm{\\mathbf x}_{\\infty},\n",
    "$$\n",
    "\n",
    "$$\n",
    "\\norm{\\mathbf x}_{\\infty}\\le \\norm{\\mathbf x}_1 \\le n\\norm{\\mathbf x}_{\\infty}.\n",
    "$$"
   ]
  },
  {
   "cell_type": "markdown",
   "metadata": {},
   "source": [
    " **定义 1.7** $\\norm{\\cdot}$ 是关于 $m\\times n$ 阶矩阵的一个矩阵范数，如果它是 $m\\cdot n$ 维空间上的一个向量范数:  \n",
    " \n",
    "1) $\\norm{\\mathbf A}\\ge,\\text{当且仅当}\\mathbf A = 0\\text{时等号成立}$;  \n",
    "\n",
    "2) $\\norm{\\alpha\\mathbf A} = \\norm{\\alpha}\\cdot \\norm{\\mathbf A}$;  \n",
    "\n",
    "3) $\\norm{\\mathbf A +\\mathbf B} \\le \\norm{\\mathbf A} + \\norm{\\mathbf B}$."
   ]
  },
  {
   "cell_type": "markdown",
   "metadata": {},
   "source": [
    "**例 1.6** \n",
    "$$\n",
    "\\max_{ij}\\abs{a_{ij}}\n",
    "$$\n",
    "\n",
    "称为最大范数，而\n",
    "\n",
    "$$\n",
    "(\\sum{\\abs{a_{ij}}^2})^\\frac{1}{2} = \\norm{\\mathbf A}_F\n",
    "$$\n",
    "\n",
    "称为弗罗贝尼乌斯($Frobenius$)范数."
   ]
  },
  {
   "cell_type": "markdown",
   "metadata": {},
   "source": [
    "**定义 1.8** 设 $\\norm{\\cdot}_{m\\times n}$ 是关于 $m\\times n$ 阶矩阵的一个矩阵范数, $\\norm{\\cdot}_{n\\times p}$ 是关于 $n\\times p$ 阶矩阵的一个矩阵范数,而 $\\norm{\\cdot}_{m\\times p}$ 是关于 $m\\times p$ 阶矩阵的一个矩阵范数.  \n",
    "\n",
    "如果\n",
    "\n",
    "$$\n",
    "\\norm{\\mathbf {A\\cdot B}}_{m\\times p} \\le \\norm {\\mathbf A}_{m\\times n}\\cdot \\norm{\\mathbf B}_{n\\times p},\n",
    "$$\n",
    "\n",
    "其中$\\mathbf A$ 是 $m\\times n$ 阶矩阵， $\\mathbf B$ 是 $n\\times p$ 阶矩阵，则这些范数称为相互相容的."
   ]
  },
  {
   "cell_type": "markdown",
   "metadata": {},
   "source": [
    "**定义 1.9** 设 $\\mathbf A$ 是 $\\widehat m\\times \\widehat n$ 阶矩阵, $\\norm{\\cdot}_{\\widehat m}$ 是 $\\mathbb{R}^m$ 上的一个向量范数， $\\norm{\\cdot}_{\\widehat n}$ 是 $\\mathbb{R}^n$ 上的一个向量范数，则\n",
    "\n",
    "$$\n",
    "\\norm{\\mathbf A}_{\\widehat m\\widehat n} \\equiv \\max_{x\\ne0\\,\\ x \\in \\mathbb{R}^n}\\frac{\\norm{\\mathbf {Ax}}_{\\widehat m}}{\\norm{\\mathbf {x}}_{\\widehat n}}\n",
    "$$\n",
    "\n",
    "称为一个算子范数,或导出范数，或从属矩阵范数."
   ]
  },
  {
   "cell_type": "markdown",
   "metadata": {},
   "source": [
    "**引理 1.6 ** 算子范数是一个矩阵范数."
   ]
  },
  {
   "cell_type": "markdown",
   "metadata": {},
   "source": [
    "**定义 1.10** 若\n",
    "\n",
    "$$\n",
    "\\mathbf Q^{-1} = \\mathbf Q^T,\n",
    "$$\n",
    "\n",
    "称实方阵 $\\mathbf Q$ 是正交阵,若\n",
    "\n",
    "$$\n",
    "\\mathbf Q^{-1} = \\mathbf Q^*,\n",
    "$$\n",
    "\n",
    "则称实方阵 $\\mathbf Q$ 是酉阵."
   ]
  },
  {
   "cell_type": "markdown",
   "metadata": {},
   "source": [
    "正交(或酉阵)的所有行(或列)有单位 2- 范数，并且因为\n",
    "\n",
    "$$\n",
    "\\mathbf Q \\mathbf Q^T =  \\mathbf Q^T \\mathbf Q =  \\mathbf I(\\mathbf Q \\mathbf Q^* =  \\mathbf Q^* \\mathbf Q =  \\mathbf I),\n",
    "$$\n",
    "\n",
    "所以它们彼此是正交的."
   ]
  },
  {
   "cell_type": "markdown",
   "metadata": {},
   "source": [
    "**引理 1.7 **  \n",
    "1.  \n",
    "$$\n",
    "\\norm{\\mathbf {Ax}}\\le \\norm{\\mathbf A}\\cdot\\norm{\\mathbf x},\n",
    "$$\n",
    "\n",
    "对一个向量范数及其对应的算子范数，或向量 2- 范数和矩阵弗罗贝尼乌斯范数成立."
   ]
  },
  {
   "cell_type": "markdown",
   "metadata": {},
   "source": [
    "2.\n",
    "$$\n",
    "\\norm{\\mathbf {AB}}\\le \\norm{\\mathbf A}\\cdot\\norm{\\mathbf B},\n",
    "$$\n",
    "\n",
    "对任何算子算数或弗罗贝尼乌斯范数成立. 换言之， 任何算子范数(或弗罗贝尼乌斯范数)和它本身是相互相容的."
   ]
  },
  {
   "cell_type": "markdown",
   "metadata": {},
   "source": [
    "3.$ \\,\\ $最大范数和弗罗贝尼乌斯范数不是算子范数."
   ]
  },
  {
   "cell_type": "markdown",
   "metadata": {},
   "source": [
    "4.\n",
    "$$\n",
    "\\norm{\\mathbf {QAZ}} = \\norm{\\mathbf A},\n",
    "$$\n",
    "\n",
    "当 $\\mathbf Q$ 和 $\\mathbf Z$ 是正交阵或酉阵时，对弗罗贝尼乌斯范数及由 $\\norm{\\cdot}_2$ 导出的算子范数成立. 而这实际上正好是毕达哥拉斯定理."
   ]
  },
  {
   "cell_type": "markdown",
   "metadata": {},
   "source": [
    "5.$\\norm{\\mathbf A}_{\\infty} \\equiv \\max_{x\\ne 0}\\frac{\\norm{\\mathbf {Ax}}_{\\infty}}{\\norm{\\mathbf x}_{\\infty}} = \\max_i\\sum_j\\abs{a_ij} = $最大的绝对值行和."
   ]
  },
  {
   "cell_type": "markdown",
   "metadata": {},
   "source": [
    "6.$\\norm{\\mathbf A}_1\\equiv \\max_{x\\ne 0}\\frac{\\norm{\\mathbf {Ax}}_1}{\\norm{\\mathbf x}_1} = \\max_j\\sum_i\\abs{a_ij} = $最大的绝对值列和."
   ]
  },
  {
   "cell_type": "markdown",
   "metadata": {},
   "source": [
    "７.$\\norm{\\mathbf A}_２ \\equiv \\max_{x\\ne 0}\\frac{\\norm{\\mathbf {Ax}}_２}{\\norm{\\mathbf x}_２} = \\sqrt{\\lambda_{max}(\\mathbf A^*\\mathbf A)} $,其中 $\\lambda_{max}$ 表示最大的特征值."
   ]
  },
  {
   "cell_type": "markdown",
   "metadata": {},
   "source": [
    "8.$\\norm{\\mathbf A}_２ = \\norm{\\mathbf A^T}_２$."
   ]
  },
  {
   "cell_type": "markdown",
   "metadata": {},
   "source": [
    "9.$\\norm{\\mathbf A}_２ = \\max_i\\abs{\\lambda_i(\\mathbf A)}$, 当 $\\mathbf A$ 是正规阵,即 $\\mathbf A\\mathbf A^* = \\mathbf A^*\\mathbf A$ 时成立."
   ]
  },
  {
   "cell_type": "markdown",
   "metadata": {},
   "source": [
    "10.若 $\\mathbf A$ 是 $n\\times n$ 阶矩阵，则\n",
    "\n",
    "$$\n",
    "n^{-\\frac{1}{2}}\\norm{\\mathbf A}_2\\le \\norm{\\mathbf A}_1\\le n^{\\frac{1}{2}}\\norm{\\mathbf A}_2.\n",
    "$$"
   ]
  },
  {
   "cell_type": "markdown",
   "metadata": {},
   "source": [
    "11.若 $\\mathbf A$ 是 $n\\times n$ 阶矩阵，则\n",
    "\n",
    "$$\n",
    "n^{-\\frac{1}{2}}\\norm{\\mathbf A}_2\\le \\norm{\\mathbf A}_{\\infty}\\le n^{\\frac{1}{2}}\\norm{\\mathbf A}_2.\n",
    "$$"
   ]
  },
  {
   "cell_type": "markdown",
   "metadata": {},
   "source": [
    "12.若 $\\mathbf A$ 是 $n\\times n$ 阶矩阵，则\n",
    "\n",
    "$$\n",
    "n^{-1}\\norm{\\mathbf A}_{\\infty}\\le \\norm{\\mathbf A}_1\\le n\\norm{\\mathbf A}_{\\infty}.\n",
    "$$"
   ]
  },
  {
   "cell_type": "markdown",
   "metadata": {},
   "source": [
    "13.若 $\\mathbf A$ 是 $n\\times n$ 阶矩阵，则\n",
    "\n",
    "$$\n",
    "\\norm{\\mathbf A}_1\\le \\norm{\\mathbf A}_F\\le n^{\\frac{1}{2}}\\norm{\\mathbf A}_2.\n",
    "$$"
   ]
  },
  {
   "cell_type": "markdown",
   "metadata": {
    "collapsed": true
   },
   "source": [
    "**证明 ** 只证明第七部分"
   ]
  },
  {
   "cell_type": "markdown",
   "metadata": {},
   "source": [
    "因为 $\\norm{\\mathbf A}_2$ 与 $\\mathbf A^*$ 有关，因此我们考虑 $\\mathbf A^*\\mathbf A$ 的特征分解."
   ]
  },
  {
   "cell_type": "markdown",
   "metadata": {},
   "source": [
    "由于 $\\mathbf A^*\\mathbf A$ 是埃尔米特矩阵，故存在一个特征分解\n",
    "\n",
    "$$\n",
    "\\mathbf A^*\\mathbf A = \\mathbf Q\\mathbf {\\Lambda}\\mathbf Q^*,\n",
    "$$\n",
    "\n",
    "其中， $\\mathbf Q$ 是酉阵(列是特征向量)， $\\mathbf {\\Lambda} = diag(\\lambda_1,\\cdots,\\lambda_n)$ 是包含特征值的对角阵,且特征值都是实的."
   ]
  },
  {
   "cell_type": "markdown",
   "metadata": {},
   "source": [
    "所有的 $\\lambda_i\\ge 0$, 因为若存在某个 $\\lambda$ 为负, 我们取它的特征向量为 $\\mathbf q$, 有\n",
    "\n",
    "$$\n",
    "0\\le \\norm{\\mathbf {Aq}}_2^2 = \\mathbf q^T\\mathbf A^T\\mathbf A\\mathbf q = \\mathbf q^T\\lambda\\mathbf q = \\lambda\\norm{\\mathbf q}_2^2 \\le0,\n",
    "$$\n",
    "\n",
    "矛盾.  \n",
    "\n",
    "所以"
   ]
  },
  {
   "cell_type": "markdown",
   "metadata": {},
   "source": [
    "$$\n",
    "\\begin{align}\n",
    "\\norm{\\mathbf A}_2 & = \\max_{x\\ne0}\\frac{\\norm{\\mathbf {Ax}}_2}{\\norm{\\mathbf x}_2} \\\\\n",
    "& = \\max_{x\\ne 0}\\frac{(\\mathbf x^*\\mathbf A^*\\mathbf A\\mathbf x)^{\\frac{1}{2}}}{\\norm{\\mathbf x}_2} \\\\\n",
    "& = \\max_{x\\ne 0}\\frac{(\\mathbf x^*\\mathbf {Q\\Lambda Q^*}\\mathbf x)^{\\frac{1}{2}}}{\\norm{\\mathbf x}_2} \\\\\n",
    "& = \\max_{x\\ne 0}\\frac{(\\mathbf (Q^*x)^*\\mathbf {\\Lambda}\\mathbf {Q^*x})^{\\frac{1}{2}}}{\\norm{\\mathbf x}_2} \\\\\n",
    "& = \\max_{y\\ne 0}\\frac{(\\mathbf y^*\\mathbf {\\Lambda}\\mathbf y)^{\\frac{1}{2}}}{\\norm{\\mathbf y}_2} \\\\\n",
    "& = \\max_{y\\ne 0}\\frac{\\sqrt{\\sum\\lambda_iy_i^2}}{\\sqrt{\\sum y_i^2}} \\\\\n",
    "& \\le \\max_{y\\ne 0}\\sqrt{\\lambda_{max}}\\sqrt{\\frac{\\sum y_i^2}{\\sum y_i^2}} \\\\\n",
    "& = \\sqrt{\\lambda_{max}},\n",
    "\\end{align}\n",
    "$$\n",
    "\n",
    "当选择 $y$ 是单位阵的适当的列时，上界是可以达到的."
   ]
  },
  {
   "cell_type": "markdown",
   "metadata": {},
   "source": []
  }
 ],
 "metadata": {
  "kernelspec": {
   "display_name": "Python 3",
   "language": "python",
   "name": "python3"
  },
  "language_info": {
   "codemirror_mode": {
    "name": "ipython",
    "version": 3
   },
   "file_extension": ".py",
   "mimetype": "text/x-python",
   "name": "python",
   "nbconvert_exporter": "python",
   "pygments_lexer": "ipython3",
   "version": "3.6.2"
  }
 },
 "nbformat": 4,
 "nbformat_minor": 2
}
