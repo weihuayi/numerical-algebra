{
 "cells": [
  {
   "cell_type": "markdown",
   "metadata": {},
   "source": [
    "$$\n",
    "\\newcommand{\\abs}[1] {\\mid #1 \\mid}\n",
    "$$"
   ]
  },
  {
   "cell_type": "markdown",
   "metadata": {},
   "source": [
    "# 1.5 浮点算数运算(Floating Point Arithmetic)"
   ]
  },
  {
   "cell_type": "markdown",
   "metadata": {},
   "source": [
    "数 $-3,1416$ 按 $\\mathit{\\text{科学计数法}}$ 可表成如下形式:"
   ]
  },
  {
   "cell_type": "markdown",
   "metadata": {},
   "source": [
    "$$\n",
    "\\underset{\\underset{{\\text{符号}}}\\nearrow}\\ -\\underset{\\underset{\\text{尾数}}\\uparrow}{0.31416} \\times \\underset{\\underset{\\text{基}}\\uparrow}{10} {^1}{\\quad \\underset{\\underset{{\\text{指数}}}\\nwarrow}{}}\n",
    "$$"
   ]
  },
  {
   "cell_type": "markdown",
   "metadata": {},
   "source": [
    "计算机使用一个类似的称为 $\\mathit{\\text{浮点}}$ 的表达式，但是一般来说基是2."
   ]
  },
  {
   "cell_type": "markdown",
   "metadata": {},
   "source": [
    "若尾数的首位数字非零时，浮点数称为 $\\mathit{\\text{规格化}}$ 的.  \n",
    "\n",
    "例如，$0.10101_2\\times 2^3$ 是规格化的，   \n",
    "\n",
    "但是，$0.010101_2\\times 2^4$ 不是规格化的."
   ]
  },
  {
   "cell_type": "markdown",
   "metadata": {},
   "source": [
    "浮点数是规格化的有两个好处:  \n",
    "+ 每个非零浮点数作为一个位字符串时，表达式唯一;\n",
    "+ 在二进制中尾数中的首位１不需明确地存储，从而为一个较长的更准确的尾数留一个额外的位."
   ]
  },
  {
   "cell_type": "markdown",
   "metadata": {},
   "source": [
    "浮点数的要素:\n",
    "+ 基\n",
    "+ 尾数中的数字个数\n",
    "+ 指数中的数字个数\n",
    "+ 四舍五入\n",
    "+ 下溢\n",
    "+ 上溢\n",
    "+ $\\pm \\infty$\n",
    "+ NaN"
   ]
  },
  {
   "cell_type": "markdown",
   "metadata": {},
   "source": [
    "例如，$0.31416\\times 10^1$ 有 5 个 10 进位数字，故所有小于 $0.5\\times 10^{-4}$ 的信息可能被丢失."
   ]
  },
  {
   "cell_type": "markdown",
   "metadata": {},
   "source": [
    "这意味着若 $x$ 是一个实数，其最佳的 5 位数字的近似数字近似是 $0.31416 \\times 10^1$,则在 $0.31416 \\times 10^1$ 中的 $\\mathit{\\text{相对表示误差}}$ 是:\n",
    "\n",
    "$$\n",
    "\\frac{\\abs{x - 0.31416\\times10^1}}{0.31416\\times10^1}\\le\\frac{0.5\\times10^{-4}}{0.31416\\times10^1}\\approx0.16\\times10^{-4}\n",
    "$$"
   ]
  },
  {
   "cell_type": "markdown",
   "metadata": {},
   "source": [
    "在规格化数中最大的相对表示误差是 $0.10000\\times 10^1$,这是从 0.999995 到 1.00005 区间中所有数的最准确的 5 位数近似.  \n",
    "\n",
    "所以它的相对误差以 $0.5\\times 10^{-4}$ 为界."
   ]
  },
  {
   "cell_type": "markdown",
   "metadata": {},
   "source": [
    "更一般地，在一个 $p$ 位数字和基为 $\\beta$ 的浮点运算中的 $\\mathit{\\text{最大相对表示误差}}$ 是\n",
    "\n",
    "$$\n",
    "0.5\\times\\beta^{1-p},\n",
    "$$\n",
    "\n",
    "这也是 1 和下一个最大的浮点数 $1 + \\beta^{1-p}$ 之间距离的一半."
   ]
  },
  {
   "cell_type": "markdown",
   "metadata": {},
   "source": [
    "当计算 $a\\odot b$ 的正确值时不能精确的表示成一个浮点数，在它被存放到存储器或寄存器之前，必须用一个邻近的浮点数来近似.  \n",
    "\n",
    "用 $fl(a\\odot b)$ 表示这个近似.  \n",
    "\n",
    "差 $(a\\odot b) - fl(a\\odot b)$ 被称为 $\\mathit{\\text{舍入误差}}$."
   ]
  },
  {
   "cell_type": "markdown",
   "metadata": {},
   "source": [
    "若 $fl(a\\odot b)$ 是一个最接近于 $a\\odot b$ 的浮点数，则称运算 $\\mathit{\\text{正确地舍入}}$."
   ]
  },
  {
   "cell_type": "markdown",
   "metadata": {},
   "source": [
    "当正确地舍入时，若 $a\\odot b$ 是在指数的指数范围内，则我们记\n",
    "\n",
    "$$\n",
    "fl(a\\odot b) = (a\\odot b)(1 + \\delta),\\qquad (1.1)\n",
    "$$"
   ]
  },
  {
   "cell_type": "markdown",
   "metadata": {},
   "source": [
    "其中 $\\abs\\delta$ 以 $\\varepsilon$ 为界.称 $\\varepsilon$ 为机器 $\\varepsilon$ 、机器精度或 macheps."
   ]
  },
  {
   "cell_type": "code",
   "execution_count": null,
   "metadata": {
    "collapsed": true
   },
   "outputs": [],
   "source": []
  }
 ],
 "metadata": {
  "kernelspec": {
   "display_name": "Python 3",
   "language": "python",
   "name": "python3"
  },
  "language_info": {
   "codemirror_mode": {
    "name": "ipython",
    "version": 3
   },
   "file_extension": ".py",
   "mimetype": "text/x-python",
   "name": "python",
   "nbconvert_exporter": "python",
   "pygments_lexer": "ipython3",
   "version": "3.6.2"
  }
 },
 "nbformat": 4,
 "nbformat_minor": 2
}
