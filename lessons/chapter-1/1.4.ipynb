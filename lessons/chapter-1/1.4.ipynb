{
 "cells": [
  {
   "cell_type": "markdown",
   "metadata": {},
   "source": []
  },
  {
   "cell_type": "markdown",
   "metadata": {},
   "source": [
    "# 1.4 例:多项式求值(Example: Polynomial Evaluation)"
   ]
  },
  {
   "cell_type": "markdown",
   "metadata": {},
   "source": [
    "我们用 $\\mathit{\\text{多项式求值}}$ 的例子\n",
    "\n",
    "$$\n",
    "p(x) = \\sum_{i=0}^da_ix^i\n",
    "$$\n",
    "来说明扰动理论、条件数、向后稳定性和舍入误差分析的思想."
   ]
  },
  {
   "cell_type": "markdown",
   "metadata": {},
   "source": [
    "如下是多项式求值的霍纳(Horner)法则:  \n",
    "\n",
    "$p = a_d$\n",
    "\n",
    "$for\\,\\ i=d-1\\,\\ down\\,\\ to\\,\\ 0$  \n",
    "\n",
    "$\\quad p = x*p + a_i$  \n",
    "\n",
    "$end\\,\\ for$  "
   ]
  },
  {
   "cell_type": "markdown",
   "metadata": {},
   "source": [
    "对\n",
    "\n",
    "$$\n",
    "p(x) = (x-2)^9 = x^9 - 18x^8 +144x^7 - 672x^6 + 2016x^5 - 4032x^4 + 5376x^3 - 4608x^2 + 2304x -512\n",
    "$$\n",
    "\n",
    "应用这个法则."
   ]
  },
  {
   "cell_type": "markdown",
   "metadata": {},
   "source": [
    "下面简要的介绍二分法:"
   ]
  },
  {
   "cell_type": "markdown",
   "metadata": {},
   "source": [
    "首先，任取一个区间\n",
    "\n",
    "$$[x_{low},x_{high}],$$\n",
    "\n",
    "这个区间上的 $p(x)$ 既能取到正值也能取到负值,即\n",
    "\n",
    "$$\n",
    "[p(x_{low}\\cdot p(x_{high} < 0))],\n",
    "$$  \n",
    "\n",
    "所以，$p(x)$ 在该区间上一定有零点.  "
   ]
  },
  {
   "cell_type": "markdown",
   "metadata": {},
   "source": [
    "然后，对区间中点\n",
    "\n",
    "$$\n",
    "x_{mid} = (x_{low} + x_{high})/2\n",
    "$$\n",
    "\n",
    "计算\n",
    "\n",
    "$$\n",
    "p(x_{mid}),\n",
    "$$\n",
    "\n",
    "并观察在下半区间\n",
    "\n",
    "$$\n",
    "[x_{low},x_{mid}]\n",
    "$$ \n",
    "\n",
    "或上半区间\n",
    "\n",
    "$$\n",
    "[x_{mid},x_{high}]\n",
    "$$\n",
    "\n",
    "中 $p(x)$ 是否变号."
   ]
  },
  {
   "cell_type": "markdown",
   "metadata": {},
   "source": [
    "任何一种情况，我们都可以找到一个包含 $p(x)$ 一个零点且长度为原来区间的一半的新区间.  \n",
    "\n",
    "如此继续对分直到区间如要求的那样短."
   ]
  },
  {
   "cell_type": "code",
   "execution_count": null,
   "metadata": {
    "collapsed": true
   },
   "outputs": [],
   "source": []
  }
 ],
 "metadata": {
  "kernelspec": {
   "display_name": "Python 3",
   "language": "python",
   "name": "python3"
  },
  "language_info": {
   "codemirror_mode": {
    "name": "ipython",
    "version": 3
   },
   "file_extension": ".py",
   "mimetype": "text/x-python",
   "name": "python",
   "nbconvert_exporter": "python",
   "pygments_lexer": "ipython3",
   "version": "3.6.2"
  }
 },
 "nbformat": 4,
 "nbformat_minor": 2
}
