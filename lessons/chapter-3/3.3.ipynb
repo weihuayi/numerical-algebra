{
 "cells": [
  {
   "cell_type": "markdown",
   "metadata": {},
   "source": [
    "## 3.3 Perturbation theory for the Least Squares Problem"
   ]
  },
  {
   "cell_type": "markdown",
   "metadata": {},
   "source": [
    "** Theorem 3.4 ** Suppose that $A$ is $m$-by-$n$ and has full rank. Suppose that $x$ minimizes $\\|Ax-b\\|_2$. Let $r=Ax - b$ be the residual. Let $\\tilde x$ minimize $\\|(A+\\delta A)\\tilde x - (b + \\delta b)\\|_2$. Assume \n",
    "$$\n",
    "\\epsilon \\equiv \\max() < \\frac{1}{\\kappa_2(A)}=\\frac{\\sigma_{\\min}(A)}{\\sigma_{\\max}(A)}\n",
    "$$\n",
    "\n",
    "then \n",
    "$$\n",
    "\\frac{\\|\\tilde x - x\\|_2}{\\|x\\|_2} \\leq \\epsilon\\cdot \\{\\frac{2\\cdot \\kappa_2(A)}{\\cos\\theta}+\\tan \\theta\\cdot\\kappa_2^2\\} +O(\\epsilon)\n",
    "$$"
   ]
  },
  {
   "cell_type": "markdown",
   "metadata": {
    "collapsed": true
   },
   "source": [
    "Assume $\\epsilon\\cdot\\kappa_2(A)<1$ to guarantee that $A+\\delta A$ has full rank."
   ]
  },
  {
   "cell_type": "markdown",
   "metadata": {},
   "source": [
    "The normal equations are not as accurate. "
   ]
  },
  {
   "cell_type": "markdown",
   "metadata": {},
   "source": [
    "Solving the normal equations is not necessarily stable."
   ]
  },
  {
   "cell_type": "code",
   "execution_count": null,
   "metadata": {
    "collapsed": true
   },
   "outputs": [],
   "source": []
  }
 ],
 "metadata": {
  "kernelspec": {
   "display_name": "Python 3",
   "language": "python",
   "name": "python3"
  },
  "language_info": {
   "codemirror_mode": {
    "name": "ipython",
    "version": 3
   },
   "file_extension": ".py",
   "mimetype": "text/x-python",
   "name": "python",
   "nbconvert_exporter": "python",
   "pygments_lexer": "ipython3",
   "version": "3.6.1"
  },
  "latex_envs": {
   "bibliofile": "biblio.bib",
   "cite_by": "apalike",
   "current_citInitial": 1,
   "eqLabelWithNumbers": true,
   "eqNumInitial": 0
  }
 },
 "nbformat": 4,
 "nbformat_minor": 1
}
